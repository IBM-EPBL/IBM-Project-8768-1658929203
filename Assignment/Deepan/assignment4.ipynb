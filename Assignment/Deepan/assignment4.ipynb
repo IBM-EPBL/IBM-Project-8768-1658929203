{
  "nbformat": 4,
  "nbformat_minor": 0,
  "metadata": {
    "colab": {
      "provenance": [],
      "collapsed_sections": []
    },
    "kernelspec": {
      "name": "python3",
      "display_name": "Python 3"
    },
    "language_info": {
      "name": "python"
    }
  },
  "cells": [
    {
      "cell_type": "code",
      "execution_count": 1,
      "metadata": {
        "id": "APo0OUVsPxIX"
      },
      "outputs": [],
      "source": [
        "import pandas as pd\n",
        "import numpy as np"
      ]
    },
    {
      "cell_type": "markdown",
      "source": [
        "##Reading the dataset"
      ],
      "metadata": {
        "id": "ImovuSHklU09"
      }
    },
    {
      "cell_type": "code",
      "source": [
        "df=pd.read_csv('/content/spam.csv',delimiter=',',encoding='latin-1')\n",
        "df.tail()"
      ],
      "metadata": {
        "colab": {
          "base_uri": "https://localhost:8080/",
          "height": 206
        },
        "id": "IpI7soBzGhCz",
        "outputId": "15948df7-1be0-48e5-9d2c-9e90e766978e"
      },
      "execution_count": 2,
      "outputs": [
        {
          "output_type": "execute_result",
          "data": {
            "text/plain": [
              "        v1                                                 v2 Unnamed: 2  \\\n",
              "5567  spam  This is the 2nd time we have tried 2 contact u...        NaN   \n",
              "5568   ham              Will Ì_ b going to esplanade fr home?        NaN   \n",
              "5569   ham  Pity, * was in mood for that. So...any other s...        NaN   \n",
              "5570   ham  The guy did some bitching but I acted like i'd...        NaN   \n",
              "5571   ham                         Rofl. Its true to its name        NaN   \n",
              "\n",
              "     Unnamed: 3 Unnamed: 4  \n",
              "5567        NaN        NaN  \n",
              "5568        NaN        NaN  \n",
              "5569        NaN        NaN  \n",
              "5570        NaN        NaN  \n",
              "5571        NaN        NaN  "
            ],
            "text/html": [
              "\n",
              "  <div id=\"df-3d1108d5-0f4d-40cb-9acd-7d08753a069d\">\n",
              "    <div class=\"colab-df-container\">\n",
              "      <div>\n",
              "<style scoped>\n",
              "    .dataframe tbody tr th:only-of-type {\n",
              "        vertical-align: middle;\n",
              "    }\n",
              "\n",
              "    .dataframe tbody tr th {\n",
              "        vertical-align: top;\n",
              "    }\n",
              "\n",
              "    .dataframe thead th {\n",
              "        text-align: right;\n",
              "    }\n",
              "</style>\n",
              "<table border=\"1\" class=\"dataframe\">\n",
              "  <thead>\n",
              "    <tr style=\"text-align: right;\">\n",
              "      <th></th>\n",
              "      <th>v1</th>\n",
              "      <th>v2</th>\n",
              "      <th>Unnamed: 2</th>\n",
              "      <th>Unnamed: 3</th>\n",
              "      <th>Unnamed: 4</th>\n",
              "    </tr>\n",
              "  </thead>\n",
              "  <tbody>\n",
              "    <tr>\n",
              "      <th>5567</th>\n",
              "      <td>spam</td>\n",
              "      <td>This is the 2nd time we have tried 2 contact u...</td>\n",
              "      <td>NaN</td>\n",
              "      <td>NaN</td>\n",
              "      <td>NaN</td>\n",
              "    </tr>\n",
              "    <tr>\n",
              "      <th>5568</th>\n",
              "      <td>ham</td>\n",
              "      <td>Will Ì_ b going to esplanade fr home?</td>\n",
              "      <td>NaN</td>\n",
              "      <td>NaN</td>\n",
              "      <td>NaN</td>\n",
              "    </tr>\n",
              "    <tr>\n",
              "      <th>5569</th>\n",
              "      <td>ham</td>\n",
              "      <td>Pity, * was in mood for that. So...any other s...</td>\n",
              "      <td>NaN</td>\n",
              "      <td>NaN</td>\n",
              "      <td>NaN</td>\n",
              "    </tr>\n",
              "    <tr>\n",
              "      <th>5570</th>\n",
              "      <td>ham</td>\n",
              "      <td>The guy did some bitching but I acted like i'd...</td>\n",
              "      <td>NaN</td>\n",
              "      <td>NaN</td>\n",
              "      <td>NaN</td>\n",
              "    </tr>\n",
              "    <tr>\n",
              "      <th>5571</th>\n",
              "      <td>ham</td>\n",
              "      <td>Rofl. Its true to its name</td>\n",
              "      <td>NaN</td>\n",
              "      <td>NaN</td>\n",
              "      <td>NaN</td>\n",
              "    </tr>\n",
              "  </tbody>\n",
              "</table>\n",
              "</div>\n",
              "      <button class=\"colab-df-convert\" onclick=\"convertToInteractive('df-3d1108d5-0f4d-40cb-9acd-7d08753a069d')\"\n",
              "              title=\"Convert this dataframe to an interactive table.\"\n",
              "              style=\"display:none;\">\n",
              "        \n",
              "  <svg xmlns=\"http://www.w3.org/2000/svg\" height=\"24px\"viewBox=\"0 0 24 24\"\n",
              "       width=\"24px\">\n",
              "    <path d=\"M0 0h24v24H0V0z\" fill=\"none\"/>\n",
              "    <path d=\"M18.56 5.44l.94 2.06.94-2.06 2.06-.94-2.06-.94-.94-2.06-.94 2.06-2.06.94zm-11 1L8.5 8.5l.94-2.06 2.06-.94-2.06-.94L8.5 2.5l-.94 2.06-2.06.94zm10 10l.94 2.06.94-2.06 2.06-.94-2.06-.94-.94-2.06-.94 2.06-2.06.94z\"/><path d=\"M17.41 7.96l-1.37-1.37c-.4-.4-.92-.59-1.43-.59-.52 0-1.04.2-1.43.59L10.3 9.45l-7.72 7.72c-.78.78-.78 2.05 0 2.83L4 21.41c.39.39.9.59 1.41.59.51 0 1.02-.2 1.41-.59l7.78-7.78 2.81-2.81c.8-.78.8-2.07 0-2.86zM5.41 20L4 18.59l7.72-7.72 1.47 1.35L5.41 20z\"/>\n",
              "  </svg>\n",
              "      </button>\n",
              "      \n",
              "  <style>\n",
              "    .colab-df-container {\n",
              "      display:flex;\n",
              "      flex-wrap:wrap;\n",
              "      gap: 12px;\n",
              "    }\n",
              "\n",
              "    .colab-df-convert {\n",
              "      background-color: #E8F0FE;\n",
              "      border: none;\n",
              "      border-radius: 50%;\n",
              "      cursor: pointer;\n",
              "      display: none;\n",
              "      fill: #1967D2;\n",
              "      height: 32px;\n",
              "      padding: 0 0 0 0;\n",
              "      width: 32px;\n",
              "    }\n",
              "\n",
              "    .colab-df-convert:hover {\n",
              "      background-color: #E2EBFA;\n",
              "      box-shadow: 0px 1px 2px rgba(60, 64, 67, 0.3), 0px 1px 3px 1px rgba(60, 64, 67, 0.15);\n",
              "      fill: #174EA6;\n",
              "    }\n",
              "\n",
              "    [theme=dark] .colab-df-convert {\n",
              "      background-color: #3B4455;\n",
              "      fill: #D2E3FC;\n",
              "    }\n",
              "\n",
              "    [theme=dark] .colab-df-convert:hover {\n",
              "      background-color: #434B5C;\n",
              "      box-shadow: 0px 1px 3px 1px rgba(0, 0, 0, 0.15);\n",
              "      filter: drop-shadow(0px 1px 2px rgba(0, 0, 0, 0.3));\n",
              "      fill: #FFFFFF;\n",
              "    }\n",
              "  </style>\n",
              "\n",
              "      <script>\n",
              "        const buttonEl =\n",
              "          document.querySelector('#df-3d1108d5-0f4d-40cb-9acd-7d08753a069d button.colab-df-convert');\n",
              "        buttonEl.style.display =\n",
              "          google.colab.kernel.accessAllowed ? 'block' : 'none';\n",
              "\n",
              "        async function convertToInteractive(key) {\n",
              "          const element = document.querySelector('#df-3d1108d5-0f4d-40cb-9acd-7d08753a069d');\n",
              "          const dataTable =\n",
              "            await google.colab.kernel.invokeFunction('convertToInteractive',\n",
              "                                                     [key], {});\n",
              "          if (!dataTable) return;\n",
              "\n",
              "          const docLinkHtml = 'Like what you see? Visit the ' +\n",
              "            '<a target=\"_blank\" href=https://colab.research.google.com/notebooks/data_table.ipynb>data table notebook</a>'\n",
              "            + ' to learn more about interactive tables.';\n",
              "          element.innerHTML = '';\n",
              "          dataTable['output_type'] = 'display_data';\n",
              "          await google.colab.output.renderOutput(dataTable, element);\n",
              "          const docLink = document.createElement('div');\n",
              "          docLink.innerHTML = docLinkHtml;\n",
              "          element.appendChild(docLink);\n",
              "        }\n",
              "      </script>\n",
              "    </div>\n",
              "  </div>\n",
              "  "
            ]
          },
          "metadata": {},
          "execution_count": 2
        }
      ]
    },
    {
      "cell_type": "code",
      "source": [
        "\n",
        "df.head()"
      ],
      "metadata": {
        "id": "FwOrmeQbQbzV",
        "colab": {
          "base_uri": "https://localhost:8080/",
          "height": 206
        },
        "outputId": "69d1142c-0b6b-474b-d7da-7d429b268f55"
      },
      "execution_count": 3,
      "outputs": [
        {
          "output_type": "execute_result",
          "data": {
            "text/plain": [
              "     v1                                                 v2 Unnamed: 2  \\\n",
              "0   ham  Go until jurong point, crazy.. Available only ...        NaN   \n",
              "1   ham                      Ok lar... Joking wif u oni...        NaN   \n",
              "2  spam  Free entry in 2 a wkly comp to win FA Cup fina...        NaN   \n",
              "3   ham  U dun say so early hor... U c already then say...        NaN   \n",
              "4   ham  Nah I don't think he goes to usf, he lives aro...        NaN   \n",
              "\n",
              "  Unnamed: 3 Unnamed: 4  \n",
              "0        NaN        NaN  \n",
              "1        NaN        NaN  \n",
              "2        NaN        NaN  \n",
              "3        NaN        NaN  \n",
              "4        NaN        NaN  "
            ],
            "text/html": [
              "\n",
              "  <div id=\"df-414e988a-bd16-4cdf-b1f2-73dfeca5473a\">\n",
              "    <div class=\"colab-df-container\">\n",
              "      <div>\n",
              "<style scoped>\n",
              "    .dataframe tbody tr th:only-of-type {\n",
              "        vertical-align: middle;\n",
              "    }\n",
              "\n",
              "    .dataframe tbody tr th {\n",
              "        vertical-align: top;\n",
              "    }\n",
              "\n",
              "    .dataframe thead th {\n",
              "        text-align: right;\n",
              "    }\n",
              "</style>\n",
              "<table border=\"1\" class=\"dataframe\">\n",
              "  <thead>\n",
              "    <tr style=\"text-align: right;\">\n",
              "      <th></th>\n",
              "      <th>v1</th>\n",
              "      <th>v2</th>\n",
              "      <th>Unnamed: 2</th>\n",
              "      <th>Unnamed: 3</th>\n",
              "      <th>Unnamed: 4</th>\n",
              "    </tr>\n",
              "  </thead>\n",
              "  <tbody>\n",
              "    <tr>\n",
              "      <th>0</th>\n",
              "      <td>ham</td>\n",
              "      <td>Go until jurong point, crazy.. Available only ...</td>\n",
              "      <td>NaN</td>\n",
              "      <td>NaN</td>\n",
              "      <td>NaN</td>\n",
              "    </tr>\n",
              "    <tr>\n",
              "      <th>1</th>\n",
              "      <td>ham</td>\n",
              "      <td>Ok lar... Joking wif u oni...</td>\n",
              "      <td>NaN</td>\n",
              "      <td>NaN</td>\n",
              "      <td>NaN</td>\n",
              "    </tr>\n",
              "    <tr>\n",
              "      <th>2</th>\n",
              "      <td>spam</td>\n",
              "      <td>Free entry in 2 a wkly comp to win FA Cup fina...</td>\n",
              "      <td>NaN</td>\n",
              "      <td>NaN</td>\n",
              "      <td>NaN</td>\n",
              "    </tr>\n",
              "    <tr>\n",
              "      <th>3</th>\n",
              "      <td>ham</td>\n",
              "      <td>U dun say so early hor... U c already then say...</td>\n",
              "      <td>NaN</td>\n",
              "      <td>NaN</td>\n",
              "      <td>NaN</td>\n",
              "    </tr>\n",
              "    <tr>\n",
              "      <th>4</th>\n",
              "      <td>ham</td>\n",
              "      <td>Nah I don't think he goes to usf, he lives aro...</td>\n",
              "      <td>NaN</td>\n",
              "      <td>NaN</td>\n",
              "      <td>NaN</td>\n",
              "    </tr>\n",
              "  </tbody>\n",
              "</table>\n",
              "</div>\n",
              "      <button class=\"colab-df-convert\" onclick=\"convertToInteractive('df-414e988a-bd16-4cdf-b1f2-73dfeca5473a')\"\n",
              "              title=\"Convert this dataframe to an interactive table.\"\n",
              "              style=\"display:none;\">\n",
              "        \n",
              "  <svg xmlns=\"http://www.w3.org/2000/svg\" height=\"24px\"viewBox=\"0 0 24 24\"\n",
              "       width=\"24px\">\n",
              "    <path d=\"M0 0h24v24H0V0z\" fill=\"none\"/>\n",
              "    <path d=\"M18.56 5.44l.94 2.06.94-2.06 2.06-.94-2.06-.94-.94-2.06-.94 2.06-2.06.94zm-11 1L8.5 8.5l.94-2.06 2.06-.94-2.06-.94L8.5 2.5l-.94 2.06-2.06.94zm10 10l.94 2.06.94-2.06 2.06-.94-2.06-.94-.94-2.06-.94 2.06-2.06.94z\"/><path d=\"M17.41 7.96l-1.37-1.37c-.4-.4-.92-.59-1.43-.59-.52 0-1.04.2-1.43.59L10.3 9.45l-7.72 7.72c-.78.78-.78 2.05 0 2.83L4 21.41c.39.39.9.59 1.41.59.51 0 1.02-.2 1.41-.59l7.78-7.78 2.81-2.81c.8-.78.8-2.07 0-2.86zM5.41 20L4 18.59l7.72-7.72 1.47 1.35L5.41 20z\"/>\n",
              "  </svg>\n",
              "      </button>\n",
              "      \n",
              "  <style>\n",
              "    .colab-df-container {\n",
              "      display:flex;\n",
              "      flex-wrap:wrap;\n",
              "      gap: 12px;\n",
              "    }\n",
              "\n",
              "    .colab-df-convert {\n",
              "      background-color: #E8F0FE;\n",
              "      border: none;\n",
              "      border-radius: 50%;\n",
              "      cursor: pointer;\n",
              "      display: none;\n",
              "      fill: #1967D2;\n",
              "      height: 32px;\n",
              "      padding: 0 0 0 0;\n",
              "      width: 32px;\n",
              "    }\n",
              "\n",
              "    .colab-df-convert:hover {\n",
              "      background-color: #E2EBFA;\n",
              "      box-shadow: 0px 1px 2px rgba(60, 64, 67, 0.3), 0px 1px 3px 1px rgba(60, 64, 67, 0.15);\n",
              "      fill: #174EA6;\n",
              "    }\n",
              "\n",
              "    [theme=dark] .colab-df-convert {\n",
              "      background-color: #3B4455;\n",
              "      fill: #D2E3FC;\n",
              "    }\n",
              "\n",
              "    [theme=dark] .colab-df-convert:hover {\n",
              "      background-color: #434B5C;\n",
              "      box-shadow: 0px 1px 3px 1px rgba(0, 0, 0, 0.15);\n",
              "      filter: drop-shadow(0px 1px 2px rgba(0, 0, 0, 0.3));\n",
              "      fill: #FFFFFF;\n",
              "    }\n",
              "  </style>\n",
              "\n",
              "      <script>\n",
              "        const buttonEl =\n",
              "          document.querySelector('#df-414e988a-bd16-4cdf-b1f2-73dfeca5473a button.colab-df-convert');\n",
              "        buttonEl.style.display =\n",
              "          google.colab.kernel.accessAllowed ? 'block' : 'none';\n",
              "\n",
              "        async function convertToInteractive(key) {\n",
              "          const element = document.querySelector('#df-414e988a-bd16-4cdf-b1f2-73dfeca5473a');\n",
              "          const dataTable =\n",
              "            await google.colab.kernel.invokeFunction('convertToInteractive',\n",
              "                                                     [key], {});\n",
              "          if (!dataTable) return;\n",
              "\n",
              "          const docLinkHtml = 'Like what you see? Visit the ' +\n",
              "            '<a target=\"_blank\" href=https://colab.research.google.com/notebooks/data_table.ipynb>data table notebook</a>'\n",
              "            + ' to learn more about interactive tables.';\n",
              "          element.innerHTML = '';\n",
              "          dataTable['output_type'] = 'display_data';\n",
              "          await google.colab.output.renderOutput(dataTable, element);\n",
              "          const docLink = document.createElement('div');\n",
              "          docLink.innerHTML = docLinkHtml;\n",
              "          element.appendChild(docLink);\n",
              "        }\n",
              "      </script>\n",
              "    </div>\n",
              "  </div>\n",
              "  "
            ]
          },
          "metadata": {},
          "execution_count": 3
        }
      ]
    },
    {
      "cell_type": "code",
      "source": [
        "df.drop(['Unnamed: 2', 'Unnamed: 3', 'Unnamed: 4'],axis=1,inplace=True)\n",
        "df.info()"
      ],
      "metadata": {
        "colab": {
          "base_uri": "https://localhost:8080/"
        },
        "id": "PwOU4DM-Zqom",
        "outputId": "4421e449-889a-40ea-c223-cd76c14c1bc2"
      },
      "execution_count": 5,
      "outputs": [
        {
          "output_type": "stream",
          "name": "stdout",
          "text": [
            "<class 'pandas.core.frame.DataFrame'>\n",
            "RangeIndex: 5572 entries, 0 to 5571\n",
            "Data columns (total 2 columns):\n",
            " #   Column  Non-Null Count  Dtype \n",
            "---  ------  --------------  ----- \n",
            " 0   v1      5572 non-null   object\n",
            " 1   v2      5572 non-null   object\n",
            "dtypes: object(2)\n",
            "memory usage: 87.2+ KB\n"
          ]
        }
      ]
    },
    {
      "cell_type": "code",
      "source": [
        "import matplotlib.pyplot as plt\n",
        "import seaborn as sns"
      ],
      "metadata": {
        "id": "8Q2JqWWTeN7p"
      },
      "execution_count": 7,
      "outputs": []
    },
    {
      "cell_type": "code",
      "source": [
        "sns.countplot(df.v1)\n",
        "plt.xlabel('Label')\n",
        "plt.title('Number of ham and spam messages')"
      ],
      "metadata": {
        "colab": {
          "base_uri": "https://localhost:8080/",
          "height": 370
        },
        "id": "kCuPJAtqeFQ6",
        "outputId": "6b5c8ce7-fbc7-4a98-8633-56aabcb53271"
      },
      "execution_count": 10,
      "outputs": [
        {
          "output_type": "stream",
          "name": "stderr",
          "text": [
            "/usr/local/lib/python3.7/dist-packages/seaborn/_decorators.py:43: FutureWarning: Pass the following variable as a keyword arg: x. From version 0.12, the only valid positional argument will be `data`, and passing other arguments without an explicit keyword will result in an error or misinterpretation.\n",
            "  FutureWarning\n"
          ]
        },
        {
          "output_type": "execute_result",
          "data": {
            "text/plain": [
              "Text(0.5, 1.0, 'Number of ham and spam messages')"
            ]
          },
          "metadata": {},
          "execution_count": 10
        },
        {
          "output_type": "display_data",
          "data": {
            "text/plain": [
              "<Figure size 432x288 with 1 Axes>"
            ],
            "image/png": "[encoded data removed]"
          },
          "metadata": {
            "needs_background": "light"
          }
        }
      ]
    },
    {
      "cell_type": "markdown",
      "source": [
        "##Creating model"
      ],
      "metadata": {
        "id": "l82GIrpGmoIY"
      }
    },
    {
      "cell_type": "code",
      "source": [
        "from sklearn.model_selection import train_test_split\n",
        "from sklearn.preprocessing import LabelEncoder\n",
        "from keras.models import Model\n",
        "from keras.layers import LSTM, Activation, Dense, Dropout, Input, Embedding\n",
        "from keras.optimizers import RMSprop\n",
        "from keras.preprocessing.text import Tokenizer\n",
        "from keras.preprocessing import sequence\n",
        "from keras.utils import to_categorical\n",
        "from keras.callbacks import EarlyStopping\n",
        "%matplotlib inline"
      ],
      "metadata": {
        "id": "X9-H6akKfQ8n"
      },
      "execution_count": 12,
      "outputs": []
    },
    {
      "cell_type": "code",
      "source": [
        "X = df.v2\n",
        "Y = df.v1\n",
        "le = LabelEncoder()\n",
        "Y = le.fit_transform(Y)\n",
        "Y = Y.reshape(-1,1)"
      ],
      "metadata": {
        "id": "XFWZRW9zfA2w"
      },
      "execution_count": 16,
      "outputs": []
    },
    {
      "cell_type": "code",
      "source": [
        "X_train,X_test,Y_train,Y_test = train_test_split(X,Y,test_size=0.15)"
      ],
      "metadata": {
        "id": "NH2zLEwSfN18"
      },
      "execution_count": 17,
      "outputs": []
    },
    {
      "cell_type": "code",
      "source": [
        "X_train.tail()"
      ],
      "metadata": {
        "colab": {
          "base_uri": "https://localhost:8080/"
        },
        "id": "BiU3ilqJfg8C",
        "outputId": "5d69910e-f78c-4a28-a099-bb86cc8e7fad"
      },
      "execution_count": 18,
      "outputs": [
        {
          "output_type": "execute_result",
          "data": {
            "text/plain": [
              "212                               K:)k:)good:)study well.\n",
              "1652    For ur chance to win a å£250 cash every wk TXT...\n",
              "1208                      Also maaaan are you missing out\n",
              "1680                                   Okay... We wait ah\n",
              "3608    Joy's father is John. Then John is the ____ of...\n",
              "Name: v2, dtype: object"
            ]
          },
          "metadata": {},
          "execution_count": 18
        }
      ]
    },
    {
      "cell_type": "markdown",
      "source": [
        "##Adding layers"
      ],
      "metadata": {
        "id": "vxzlD9-Zix70"
      }
    },
    {
      "cell_type": "code",
      "source": [
        "from keras_preprocessing.sequence import pad_sequences"
      ],
      "metadata": {
        "id": "fCwapM8hfm6t"
      },
      "execution_count": 19,
      "outputs": []
    },
    {
      "cell_type": "code",
      "source": [
        "from keras import preprocessing\n",
        "import keras\n",
        "max_words = 1000\n",
        "max_len = 150\n",
        "tok = Tokenizer(num_words=max_words)\n",
        "tok.fit_on_texts(X_train)\n",
        "sequences = tok.texts_to_sequences(X_train)\n",
        "sequences_matrix = pad_sequences(sequences,maxlen=max_len)"
      ],
      "metadata": {
        "id": "4Hdz1X-Nf69H"
      },
      "execution_count": 20,
      "outputs": []
    },
    {
      "cell_type": "code",
      "source": [
        "def RNN():\n",
        "    inputs = Input(name='inputs',shape=[max_len])\n",
        "    layer = Embedding(max_words,50,input_length=max_len)(inputs)\n",
        "    layer = LSTM(64)(layer)\n",
        "    layer = Dense(256,name='FC1')(layer)\n",
        "    layer = Activation('relu')(layer)\n",
        "    layer = Dropout(0.5)(layer)\n",
        "    layer = Dense(1,name='out_layer')(layer)\n",
        "    layer = Activation('sigmoid')(layer)\n",
        "    model = Model(inputs=inputs,outputs=layer)\n",
        "    return model"
      ],
      "metadata": {
        "id": "VtefgZ_6gDuX"
      },
      "execution_count": 21,
      "outputs": []
    },
    {
      "cell_type": "markdown",
      "source": [
        "##Compiling the model"
      ],
      "metadata": {
        "id": "tpEDg9TGjTaK"
      }
    },
    {
      "cell_type": "code",
      "source": [
        "model = RNN()\n",
        "model.summary()\n",
        "model.compile(loss='binary_crossentropy',optimizer=RMSprop(),metrics=['accuracy'])"
      ],
      "metadata": {
        "colab": {
          "base_uri": "https://localhost:8080/"
        },
        "id": "nEO9fLolgJTT",
        "outputId": "a995f126-eaba-47c5-c100-a26e382c2c84"
      },
      "execution_count": 22,
      "outputs": [
        {
          "output_type": "stream",
          "name": "stdout",
          "text": [
            "Model: \"model\"\n",
            "_________________________________________________________________\n",
            " Layer (type)                Output Shape              Param #   \n",
            "=================================================================\n",
            " inputs (InputLayer)         [(None, 150)]             0         \n",
            "                                                                 \n",
            " embedding (Embedding)       (None, 150, 50)           50000     \n",
            "                                                                 \n",
            " lstm (LSTM)                 (None, 64)                29440     \n",
            "                                                                 \n",
            " FC1 (Dense)                 (None, 256)               16640     \n",
            "                                                                 \n",
            " activation (Activation)     (None, 256)               0         \n",
            "                                                                 \n",
            " dropout (Dropout)           (None, 256)               0         \n",
            "                                                                 \n",
            " out_layer (Dense)           (None, 1)                 257       \n",
            "                                                                 \n",
            " activation_1 (Activation)   (None, 1)                 0         \n",
            "                                                                 \n",
            "=================================================================\n",
            "Total params: 96,337\n",
            "Trainable params: 96,337\n",
            "Non-trainable params: 0\n",
            "_________________________________________________________________\n"
          ]
        }
      ]
    },
    {
      "cell_type": "markdown",
      "source": [
        "##Fitting the model"
      ],
      "metadata": {
        "id": "Auc89bDAjiWu"
      }
    },
    {
      "cell_type": "code",
      "source": [
        "model.fit(sequences_matrix,Y_train,batch_size=128,epochs=10,\n",
        "          validation_split=0.2,callbacks=[EarlyStopping(monitor='val_loss',min_delta=0.0001)])"
      ],
      "metadata": {
        "colab": {
          "base_uri": "https://localhost:8080/"
        },
        "id": "ZMYJWZCCgRHm",
        "outputId": "fc3b32b1-4e04-42d7-fc35-d8209195d45f"
      },
      "execution_count": 23,
      "outputs": [
        {
          "output_type": "stream",
          "name": "stdout",
          "text": [
            "Epoch 1/10\n",
            "30/30 [==============================] - 13s 261ms/step - loss: 0.3333 - accuracy: 0.8675 - val_loss: 0.2139 - val_accuracy: 0.9757\n",
            "Epoch 2/10\n",
            "30/30 [==============================] - 7s 243ms/step - loss: 0.0888 - accuracy: 0.9762 - val_loss: 0.0604 - val_accuracy: 0.9821\n"
          ]
        },
        {
          "output_type": "execute_result",
          "data": {
            "text/plain": [
              "<keras.callbacks.History at 0x7f7c43547cd0>"
            ]
          },
          "metadata": {},
          "execution_count": 23
        }
      ]
    },
    {
      "cell_type": "markdown",
      "source": [
        "##Testing the model"
      ],
      "metadata": {
        "id": "0EVtOsU6jzkc"
      }
    },
    {
      "cell_type": "code",
      "source": [
        "test_sequences = tok.texts_to_sequences(X_test)\n",
        "test_sequences_matrix = pad_sequences(test_sequences,maxlen=max_len)"
      ],
      "metadata": {
        "id": "wn3VvjLtgZq1"
      },
      "execution_count": 24,
      "outputs": []
    },
    {
      "cell_type": "code",
      "source": [
        "print(test_sequences)"
      ],
      "metadata": {
        "colab": {
          "base_uri": "https://localhost:8080/"
        },
        "id": "cPVHXTG1gkqD",
        "outputId": "94f137b3-756f-4cc5-9f0f-f3d9fed9f630"
      },
      "execution_count": 25,
      "outputs": [
        {
          "output_type": "stream",
          "name": "stdout",
          "text": [
            "[[414, 479, 19, 36, 27, 646, 27, 178, 119, 2, 37, 9, 28, 112, 210, 425], [135, 794, 3, 344, 346, 19, 613, 486, 286, 5, 7, 30, 5, 3, 137, 10, 4, 7, 78, 137, 3, 73], [138, 25, 1, 92, 194, 1, 80, 3, 368, 398], [3, 448, 11, 64, 27, 17, 4, 123, 64, 121], [228, 4, 98, 32, 47, 697, 2, 34, 88, 79, 34, 608, 282, 2, 935, 2], [1, 3, 43, 71, 210], [3, 84, 28, 5, 613], [72, 4, 3, 22, 511, 2, 374, 4, 556, 31, 14, 2, 13, 79, 5, 328, 46, 2, 35, 2, 125, 189, 134], [315, 27, 3, 55, 733, 42, 41, 26, 457, 2, 198, 97, 510, 7, 159, 21, 33, 39, 100, 31, 4, 810, 15, 61, 36, 45, 51, 113], [124, 731, 17, 13, 217, 18, 218, 277, 5, 18, 13, 20, 339, 4, 20, 45, 122, 147, 201], [215, 21, 66, 1, 641, 176, 66], [897, 466, 287, 56, 722, 492, 349, 24, 10, 11, 56, 157, 466, 25, 1, 255, 258, 69, 8, 719, 112, 715, 797, 456, 694, 78, 53], [92, 500, 122, 64, 187, 330, 60, 499, 59, 339, 760], [11, 1, 70, 3, 2, 103, 20, 26, 156, 15, 614, 87, 9, 925, 18, 13, 107, 925], [59, 1, 198], [25, 1, 377, 37, 47, 217, 415], [9, 246, 697, 153, 10, 2, 31, 129, 12, 4, 115, 117, 35, 236], [846, 22, 3, 5, 462], [46, 59, 81, 39, 309, 104], [1, 36, 40, 305, 615, 10, 32, 5], [49, 63, 3, 95, 17, 14, 80, 2, 55, 44, 1, 145, 37], [570, 232, 94, 629, 21, 729, 401, 606, 389, 516, 191, 66, 50], [17, 3, 674, 140, 263], [258, 177, 29, 233, 1, 959, 53, 45, 283, 29, 53, 12, 73, 791], [63, 94, 323, 81, 5, 403, 250, 9, 97, 165, 63, 557, 218, 2, 756, 323, 7, 323, 557, 218, 2, 756, 63, 256], [1, 70, 2, 37, 71, 23, 1, 29, 424, 3, 7, 222, 3, 217, 2, 10], [26, 321, 37, 4, 440, 56, 28, 5, 462, 82, 18, 5, 266], [287, 60, 42, 94, 969, 2, 10, 360], [881, 34, 370, 544, 15, 627, 26, 281, 47, 522, 20, 713, 884, 342, 79, 628, 2], [233, 36, 799, 514], [3, 22, 24, 10, 25, 3, 17, 2, 11, 109], [388, 68, 10, 234, 7, 623, 90, 538, 43], [135, 181, 4, 350, 1, 166, 20], [555, 508, 202, 439, 11, 690, 448, 774, 1, 641, 591], [13, 77, 10, 122, 209, 20, 156, 45, 220, 285, 314, 24, 515, 416, 723, 109, 86], [139, 449, 40, 450, 168, 3], [24, 161, 555, 17, 35, 241, 30], [93, 78, 16, 3, 44, 30, 681], [632], [9, 5, 331, 101, 372, 84, 25, 61, 486, 24, 489, 38, 60, 52], [30, 28, 945, 21, 912, 74, 5, 444], [114, 65, 63, 65, 21, 921, 6, 344, 905, 209, 232, 21, 120, 20, 133, 6, 383, 693], [36, 205, 14, 23, 49, 724, 15, 543, 27, 3, 56], [757, 215, 24, 548, 4, 328, 24, 4, 61, 4, 214, 525, 1, 38, 37, 32, 3, 124], [6, 29, 185, 586, 15, 628, 507, 627, 186, 115, 21, 79, 5, 328, 342, 2, 147, 201], [111, 5, 9, 123, 25, 61, 22, 123, 3, 80, 4, 311, 2, 61, 22, 25, 51, 9, 51, 61, 4, 123, 244, 5, 632, 385, 8, 1, 405, 83], [203, 1, 17, 2, 103, 14, 48, 1, 163, 11, 334, 778, 12, 285, 144, 651, 1, 8, 5, 66, 141, 2, 175], [69, 8, 2, 32, 7, 69, 249, 10, 56, 242, 56, 69, 291, 10, 214, 69, 116, 7, 1, 38, 129, 15, 19, 33], [48, 8, 11, 421, 35, 356, 513, 435, 12, 10, 40, 176, 48, 496, 3, 64, 11, 62, 116, 3, 345, 13], [127, 1, 38, 37, 161, 812, 254, 3, 70, 2, 53, 12, 5, 839, 216, 1, 38, 495, 3, 30, 66], [30, 151, 91, 94, 94, 15, 94, 546, 15, 94, 57, 514, 314, 94, 310], [27, 6, 490, 106, 757, 74, 282, 9, 34, 718], [57, 57, 4, 350, 15, 48, 2, 157], [30, 9, 932], [8, 71, 273, 738, 8, 225, 12, 27, 3, 31, 106, 697, 50, 13, 140, 244], [13, 149, 7, 58, 438, 2, 13, 671, 149, 167, 196, 24, 978, 50, 3, 40, 265, 51, 5, 288, 9, 13, 57, 40, 149, 50, 11, 241], [46, 1, 27, 6, 55, 1, 57], [135, 46], [3, 334, 431, 14, 50, 10], [138, 427, 39, 29, 51, 5, 15, 5], [3, 38, 53, 2, 1, 377, 563], [122, 1, 100, 17, 99, 149, 7, 20, 61, 227, 37, 4, 480, 9, 5, 844, 7, 907, 24, 31, 33, 245], [463, 48, 101, 5, 63, 15], [142, 63, 27, 6, 262, 20, 162, 10, 104], [46], [134, 616, 6, 150, 6, 157, 260, 27, 6, 851, 8, 150, 341, 15, 260, 144, 150, 282, 15, 4, 430, 138, 7, 6, 851, 132, 8, 332, 430, 260, 101, 8, 150, 132, 73, 29, 150, 282, 15, 4, 320], [1, 238, 19, 65, 273, 18], [73, 15, 288, 9, 616, 1, 924], [79, 71, 2, 2, 879, 81, 587, 342, 45, 4, 871, 507, 731, 45, 4, 15, 894, 173, 279, 147, 201, 2, 208, 115], [49, 588, 124, 167, 3, 1, 65], [49, 3, 151, 48, 22, 3], [109, 137, 99, 59, 42, 41, 261, 104], [16, 10, 44, 6, 304, 59, 1, 60, 94, 188, 6], [1, 249, 232, 32, 3, 9, 1, 80, 236, 29, 3, 10], [10, 30, 24, 380, 1, 31, 318], [39, 641, 12, 4, 705, 7, 1, 209, 11, 7, 489, 145, 17, 28, 83, 90, 3, 146], [93, 93, 44, 22, 3, 75], [388, 140, 181], [24, 873, 282], [27, 3, 335, 33, 1, 164, 49, 716, 3, 92, 17, 2, 157, 33, 14, 8], [49, 63, 145, 1, 102, 11, 278, 2, 37, 229], [35, 109, 1, 17, 139, 483, 50, 3, 7, 519, 508, 1, 65, 9, 5, 568, 904, 9, 4, 244, 35, 783, 167, 71, 145, 37, 119, 15, 24, 75, 24, 44, 414, 61, 2, 53, 226, 12, 187], [58, 9, 13, 444, 26, 193], [127, 1, 65, 161, 70, 2, 232, 26, 90, 10, 68, 568, 2, 68, 944, 28, 2, 643, 68, 82], [152, 1, 29, 84, 137, 3, 4], [3, 17, 180, 4, 281, 485, 26, 219, 392, 125, 34, 485, 16, 47, 18, 276, 20, 82, 18], [24, 293, 32, 40, 318, 209, 114], [138, 9, 904, 411, 203], [17, 4, 123, 849, 2, 843, 7, 531, 5, 925, 2, 709, 24, 36, 32, 5, 940, 25, 32, 709, 19, 8, 748, 2, 90, 3, 323, 927], [135, 93, 167, 3, 57, 318, 59, 667, 43], [203, 30, 24, 171, 25, 181, 12, 715, 15, 10], [443, 1, 31, 11], [18, 141, 2, 465, 29, 3, 109, 67, 10, 149], [30, 9, 300, 38, 104], [199, 95, 15, 733, 32, 444, 228, 582, 15, 11, 768], [144, 366, 39, 29, 169, 4, 440, 508, 293, 130, 106, 63, 223], [11, 690, 48, 22, 3, 151, 465, 8, 71, 4, 226, 210, 3, 27, 103, 194], [57, 133, 1, 2, 724, 1, 400, 118, 9, 1, 524, 4, 25, 56, 24, 240, 259], [196, 36, 448, 4, 892, 15, 7, 11, 9, 14, 7, 59, 11, 293, 175, 52], [28, 177, 155, 21], [390, 106, 263], [9, 165, 44, 3, 441, 36, 4, 24, 61, 5, 686, 25, 508, 5, 9, 5, 6, 38, 55, 49, 13, 269, 8, 986, 12], [287, 226, 45, 10, 9, 520, 1, 304, 573, 220], [163, 424, 424, 1, 211, 27, 5, 926, 69, 8, 4, 284, 929, 69, 854, 15, 320, 132, 712, 4, 323, 2, 242, 64], [621, 758, 185, 4, 586, 158, 33, 6, 55, 132, 5, 98, 15, 38, 37, 79, 99, 216, 282, 2, 82, 313, 208], [102, 99, 439, 513, 159, 21], [135, 123, 1, 377, 129, 130, 23, 19, 39, 29, 306], [110, 22, 36, 597, 14, 447, 2, 422, 89, 1, 17, 42, 41, 2, 157, 25, 1, 29, 422, 89, 790, 3, 31], [171], [7, 3, 7, 1, 90, 39, 29, 84, 43, 121], [14, 136, 2, 103, 14, 71, 61, 47, 33, 3, 80, 2, 55, 130, 201], [96, 120, 6, 31, 40, 79, 108, 722, 21, 77, 208, 261, 254, 1, 95], [3, 273, 83, 408, 300, 159, 1, 80, 2, 140, 52, 7], [30, 734, 155, 2, 33, 30, 24, 89, 74, 5, 63, 286, 257, 36, 225, 5, 18, 11, 7, 78, 68, 3, 44, 307], [413, 10, 360, 589, 104], [93, 30, 89, 9, 11, 244, 9, 23, 1, 372, 80, 2, 27, 5, 554], [24, 179, 1, 17, 5, 12, 14], [409, 91, 217, 472, 719, 285, 8, 57], [12, 106, 219, 33, 3, 17, 368, 860, 870, 16, 201, 18], [127, 171, 473, 14, 75, 116, 3, 375, 52, 131, 13, 75, 12, 98, 583], [763, 8, 187, 54, 8, 7, 543, 8, 161, 259], [382, 142, 38, 143, 177, 18, 904], [59, 255, 85], [70, 20, 31, 234, 70, 341, 999, 205, 933, 20, 34, 547, 495, 5, 999, 407, 401, 2, 745, 134, 189], [1, 92, 55, 49, 2, 27, 2, 60, 52, 15, 40, 23, 66, 65, 164, 966, 56, 40, 92, 10], [881, 759, 180, 286, 4, 781, 9, 97, 392, 158, 342, 16, 21, 158, 423], [29, 3, 109, 178, 52, 48, 126, 110, 9, 7, 48, 207, 509, 29, 14, 37, 767, 61, 187, 612, 2, 17, 4, 86, 210], [1, 38, 437, 210, 838, 176], [111, 30, 3, 334, 178, 14, 203], [145, 53, 2, 7], [13, 8, 459, 272, 5, 15, 8, 197, 25, 84, 8, 1, 38, 60, 229], [39, 668, 16, 56, 42, 41, 509, 135, 35, 137, 218, 135], [35, 144, 24, 30, 845, 42, 41, 583, 671, 7, 37, 236, 50, 11, 286, 24, 962, 2, 17, 2, 32, 40, 295, 40, 8, 295, 167, 1, 100, 102, 3], [14, 239, 853, 114], [93, 6, 197, 92, 134, 26, 86, 2, 242, 134], [93, 53, 7, 231, 111, 103, 958], [764, 122, 358, 990, 47, 506, 79, 16, 2, 35, 329, 990, 506, 251, 82, 79, 82], [22, 3, 43, 12, 5, 1, 55, 1, 65], [3, 137, 218, 89, 11, 654, 7, 42, 41, 765, 39, 453, 3, 2, 140, 39, 38, 60, 2, 13, 83, 888, 303], [116, 3, 242], [197, 964, 964], [136, 19, 156, 45, 243], [105, 16, 72, 71, 8, 119, 192, 148, 247, 12, 3], [21, 57, 411, 20, 354, 6, 35, 140, 87], [3, 180, 13, 45, 985, 267, 26, 603, 580, 488, 16, 21, 553, 796, 215, 208, 581], [181, 91, 1, 222, 187, 187, 128, 124, 1, 197, 168, 3, 91], [124, 443, 517, 622, 9, 5, 443, 521, 3, 250, 22, 492, 46, 25, 4, 54, 73, 9, 341], [4, 445, 8, 247, 12, 3, 97, 961, 117, 3, 50, 97, 88, 2, 374, 4, 36, 16], [49, 3, 116, 9, 225], [806, 5, 2, 31, 4, 613, 5, 98, 35, 122, 50, 4, 897, 26, 4, 51, 45, 47], [38, 6, 162, 34, 937, 223, 8, 34, 228, 20, 4, 345, 20, 178, 52, 47, 79, 74, 34, 143, 477], [139, 385, 63, 318, 903], [6, 470, 43, 166, 142, 6, 151, 6, 953, 218, 43, 104, 656, 30, 734, 573, 314, 675, 515, 56, 332, 6, 29, 324, 143, 63, 133, 233, 223], [93, 78, 140, 193, 52], [315, 30, 28, 11, 154, 54, 697, 39, 43, 4], [451, 525, 5, 43], [256, 256, 93, 620, 194, 231, 111, 256], [503, 13, 415, 2, 158, 281, 68, 2, 35, 147, 201], [1, 100, 592, 476, 906, 6, 1, 705, 967, 155, 14, 10, 19, 6, 100, 194, 483, 2, 82, 10], [46, 321, 102, 5, 763], [235, 930, 8, 25, 6, 274, 24, 55, 131, 14, 34, 81, 86, 692, 686, 331, 86, 331], [26, 6, 164, 110, 51, 33, 217, 418, 29, 4, 24, 33, 51, 15, 175, 29, 136, 14, 59, 30, 46, 85], [71, 22, 112, 259, 114, 26, 71, 8, 94, 5], [135, 995, 289, 38, 521, 251], [124, 131, 3, 38, 37, 44, 1, 437, 71], [366, 23, 48, 60, 3, 577, 108, 7, 210], [356, 39, 274, 26, 274, 24, 53, 2, 2, 162, 811, 23, 9, 19], [152, 78, 270, 2, 193, 43], [201, 744, 3, 67, 47, 7, 467, 160, 40, 148, 50, 71, 27, 3, 90, 5, 12], [46, 29, 37, 104, 229, 515, 515, 989, 33, 3, 70, 17, 649, 210, 24, 2, 236, 18, 33, 3, 100, 335, 72, 151, 19, 329], [55, 44, 286, 114], [4, 421, 4, 69, 401, 101, 419, 335, 69, 401, 99, 807, 182, 150, 421, 717, 20, 150, 63, 4, 58, 150, 14, 58, 77, 20, 806, 150, 430, 150, 421, 56, 94, 99, 101, 502, 6, 592, 23, 680, 858, 150, 421, 8, 150, 754, 15, 11, 94, 150, 430, 97, 94, 15, 150, 604, 1, 47, 710, 150, 256, 814], [366, 1, 65, 42, 41, 308, 120, 3, 56, 175, 330], [3, 66, 10, 3, 29, 16, 106, 25, 3, 419, 219, 4, 16, 15, 711, 26, 219, 3], [128, 98, 583], [110, 100, 478, 19, 295, 18, 5, 2, 190, 14, 50, 293, 209, 71], [13, 587, 366, 547, 498, 22, 307, 2, 824, 40, 740, 98, 498, 122, 897, 20, 156, 92, 130, 695, 9, 94], [568, 290, 16, 21, 36, 230, 191, 701, 394, 381, 8, 4, 606, 389, 16], [148, 612, 12, 87, 8, 13, 748, 64, 20, 178, 52, 167, 852, 590, 147, 201, 71, 8, 4, 3], [43, 13, 547, 32, 4, 488, 15, 4, 685, 148, 518, 4, 47, 212, 79, 682, 2, 619, 230, 685], [429, 2, 164, 77, 242], [891, 48, 207, 511], [131, 1, 37, 452, 11, 427, 5, 301, 921, 732, 10, 7, 1, 344, 53, 897, 25, 712, 242], [384, 111, 19, 250, 14, 1, 301, 58, 241, 32, 21, 455, 1, 116, 5, 761, 204, 25, 1, 166, 15, 624, 69, 274, 24, 60, 170, 15, 236], [35, 101, 419, 1, 38, 635, 505, 7, 183, 3, 55], [6, 687, 10, 159, 16, 11, 730, 107], [319, 502, 49, 8, 4, 440, 892, 86], [13, 338, 2, 37, 18, 4, 472, 16, 21, 36, 230, 191, 701, 394, 381, 8, 4, 606, 389, 16], [46, 85], [46], [781, 72, 4, 899, 407, 237, 3, 108, 511, 2, 374, 4, 2, 503, 16, 537, 598, 66], [316, 322, 33, 69, 453, 277, 14, 242, 463, 38, 26, 175], [93, 116, 3, 16, 10, 36, 21, 384], [11, 849, 58, 46, 25, 353, 85, 87, 25, 144, 46, 45, 10, 170, 30, 24, 734, 106, 25, 413, 18, 11, 662, 894, 940], [1, 253, 6, 202, 114, 1, 222, 23, 921], [539, 51, 293, 209, 114, 7, 17, 166, 5], [138, 91, 106, 28, 34, 395], [30, 227, 52, 11], [3, 38, 37, 9, 5, 244, 15, 19, 284], [35, 39, 14, 51, 23, 623, 17, 33, 59, 97, 2, 213, 236, 89, 9, 165], [93, 27, 14, 28, 450, 91, 192], [253, 39, 202, 593, 159, 21], [1, 199, 226, 2, 14], [215, 25, 24, 56, 19], [46, 133, 118, 59], [803, 5, 131, 5, 331, 15, 705, 8], [337, 132, 65, 1, 40, 8, 5, 216, 63, 1, 4, 147, 201, 859, 51, 1, 30, 247, 12, 13, 1, 70, 2, 37, 13, 278, 122, 122], [486, 85, 38, 110, 84, 183, 218, 53, 4, 24, 384, 655, 110, 38, 24, 55, 501, 104, 39, 676, 97, 406, 5, 381, 159], [315, 214, 300, 27, 3, 344, 103, 5, 525, 300, 8, 560], [32, 149, 42, 41, 12, 765, 42, 541, 41, 117, 108, 2, 5, 326, 18, 42, 41, 28, 42, 63, 41, 42, 41], [1, 262, 25, 121, 390, 550, 10, 750, 21, 177, 83, 23, 390, 735, 335, 59], [192, 34, 370, 4, 941, 849, 2, 26, 392, 2, 125, 79, 396, 2, 276, 285, 313, 208, 387], [152, 15, 4, 773], [270, 735], [660, 23, 1, 618, 6, 437, 308, 938, 333, 6, 20, 130, 303, 66, 1, 45, 130, 436], [159, 18, 90, 3, 104], [494, 61, 32, 10, 66, 21, 65, 75, 83], [332, 8, 356, 39, 29, 95, 15, 193, 2, 27, 69, 69, 17, 4, 259, 63, 234, 321, 364, 79, 6, 104, 170, 160, 367], [995, 23, 671, 85, 199, 258, 15, 174, 554, 25, 78, 177, 11, 104], [3, 17, 119, 612, 237, 224, 16, 928, 21], [846, 39, 199, 90, 33, 39, 29, 495, 7, 26, 404, 70, 921, 63], [22, 3, 273, 2, 64, 12, 300], [139, 385, 63, 318, 903], [21, 289, 75, 2, 13], [96, 427, 160, 418, 18, 5, 462, 28, 5, 7, 1, 453, 37, 83, 501, 77, 314, 989, 344, 27, 104, 16, 10, 104, 89, 693], [309, 6, 8, 11, 140, 873, 10, 44, 443, 1, 27, 11, 140, 146], [124, 108, 2, 40, 8, 97, 662, 491, 2, 200, 6, 79, 232, 2, 683, 189, 877, 878, 684], [81, 6, 9, 33, 39, 162, 39, 29, 53, 20, 11, 336], [990, 438, 378], [1, 70, 853, 144, 36, 7], [842, 7, 203], [481, 45, 6, 81, 4, 1, 95, 34, 656, 122, 6, 10, 43, 62, 6], [174, 85, 33, 110, 51, 53, 59, 1, 53, 85], [65, 24, 2, 27, 56, 19], [96, 88, 35, 42, 41, 117, 3, 9, 743, 200, 18, 147, 201, 14, 215, 4, 123, 244, 2, 67, 47, 235, 2, 268, 12, 130, 778, 201], [687, 172, 13, 440, 56, 4, 16, 50, 445, 595, 16, 2, 552, 3, 63, 169, 173, 133, 147, 201], [544, 98, 50, 446, 53, 79, 184, 2, 35, 503, 534, 87, 50, 66, 313, 147, 45, 796], [113, 117, 12, 317, 64, 176, 117, 60, 9, 4, 264, 141, 274, 3, 323, 56, 5, 7, 13, 28, 5, 832, 832, 256, 820], [39, 478, 229, 97, 24, 36, 2, 37, 50, 293, 615, 25, 2, 178, 52, 132, 483, 2, 732, 5, 155, 31], [131, 22, 3, 1, 239, 924, 15, 3, 55, 1, 80, 3], [75, 89, 2, 231], [11, 107], [370, 2, 346, 45, 154, 16, 2, 125, 186, 762, 191, 626], [1, 65, 18, 5, 141, 2, 34, 83], [76, 1, 21, 59, 133, 34, 134, 869, 85, 23, 204, 25, 66, 45, 73, 113, 434, 17, 4, 98, 444, 20, 231, 9], [170, 896, 157, 118, 835, 23, 1, 164, 118], [674, 300, 131, 22, 3], [167, 334, 6, 16, 18, 13, 292], [8, 34, 991, 87, 9, 143, 26, 719], [353, 85, 25, 255, 102, 129, 226, 69, 31], [7, 953, 175, 43, 50, 659, 75, 20, 7, 110, 38, 27, 5, 940, 45, 156, 598, 7, 59, 6, 103, 175, 83, 914, 20, 220, 989, 187, 447], [179, 25, 482, 11, 798, 38, 37, 459, 18, 1, 100, 161, 80, 4, 604], [96, 27, 6, 70, 2, 495, 10, 32, 104, 309, 175, 28, 16, 6, 153, 300], [3, 22, 4, 781, 3, 17, 108, 511, 2, 374, 392, 154, 26, 4, 658, 485, 362, 2, 4, 290, 777, 2, 125, 16, 359, 516], [1, 100, 55, 6, 7, 6, 100, 55, 10, 67, 232, 2, 683, 21, 7, 178, 776, 246, 66, 189, 134, 877, 878, 684, 276, 583, 26, 209], [76, 78, 16, 104], [92, 614, 102, 19, 284, 15, 711, 403, 15, 9, 838, 378, 105], [90, 3, 71], [544, 47, 68, 710, 36, 68, 46, 2, 7, 623, 860, 13, 326], [43, 2, 118, 287, 262, 60, 59, 60, 85, 25, 1, 133, 106], [453, 9, 417], [152, 33, 211, 27, 14, 1, 239, 455, 164, 229, 4, 299], [213, 6, 55, 117, 502, 97, 720, 224, 20, 200, 3, 199, 337, 132, 16, 21, 51, 38, 37, 782, 314, 189], [968, 996, 664, 89, 2, 50, 11, 8], [3, 17, 119, 612, 237, 224, 50, 16, 928, 21], [174, 85, 548, 540, 15, 218, 85], [40, 430, 404, 24, 563, 9, 376, 40, 430, 829, 80, 63, 654, 969, 52, 508, 327, 449, 59, 37, 43, 9, 376], [59, 34, 31, 4], [216, 7, 702, 93], [36, 198, 4, 26, 6, 31, 2, 188], [46, 85, 481, 287, 9, 465], [1, 65, 83, 171, 22, 3, 84, 43], [619, 47, 12, 371, 115, 184, 212, 45, 34, 547, 186, 115, 36, 79, 184, 2, 619, 31, 7, 102, 34, 785, 147, 248, 195, 782, 189, 212, 252], [135, 1, 502, 12, 449, 283, 103, 194, 118], [139, 13, 88, 729, 26, 130, 6, 81, 2, 521, 2, 5, 325, 523, 32, 351, 12, 47, 16, 5, 88, 521, 248, 47, 18], [96, 725, 36, 57, 89, 7, 1, 139, 4, 161, 259, 113, 7, 181, 23, 126, 12, 5, 90, 6, 146, 367], [447, 384, 57, 511, 526, 61, 54], [96, 61, 10, 3, 22, 364, 327, 121, 126, 449, 2, 31, 40, 148, 25, 1, 301, 654, 79, 6, 170, 160, 570, 7, 117, 108, 28, 10, 51, 113], [192, 39, 22, 280, 2, 200, 6, 630, 342, 361, 19, 3, 17, 180, 4, 158, 281, 16, 50, 739, 305, 125, 394], [3, 17, 60, 406, 11, 165, 7, 5, 904, 221, 18, 10, 11, 269, 4, 323, 18, 11, 441, 597, 10, 222, 7, 12], [92, 37, 632, 124], [90, 3, 59, 539, 51, 114], [67, 10, 149, 109], [420, 237, 3, 274, 21, 125, 13, 47, 351, 107, 12, 13, 16, 21, 18, 348, 173, 653, 352, 677, 52, 644], [8, 722], [167, 100, 3, 226, 28, 780, 2, 90, 33, 3, 31, 13], [245], [22, 3, 179, 3, 100, 634, 31, 114], [611, 272, 54, 2, 431, 50, 3, 48, 22, 3, 11, 124, 128, 98, 265, 135], [226, 245, 84, 24, 51, 19, 202, 3, 24, 179, 77, 10, 294, 26, 19, 245, 167, 243, 829, 70, 2, 290, 32, 218], [76, 334, 490, 1, 528, 26, 978, 50, 7, 117, 214, 8, 9, 78, 478, 18, 5, 911, 7, 31, 129, 2, 14, 52, 7], [160, 18, 5, 849, 1, 58, 33, 13, 2, 31, 709, 593, 39, 53, 4, 162, 7, 854, 15], [283, 774, 89, 21, 59], [47, 371, 115, 522, 20, 45, 4, 338, 20, 185, 887, 26, 871, 154, 186, 329, 79, 2, 279, 147, 497], [3, 4, 890, 115], [304, 309, 16, 10], [640, 859, 97, 269, 925, 44, 213, 8, 9, 14, 25, 14, 187, 44, 213, 14, 54, 113], [574, 261, 574, 79, 122, 20, 458, 18, 325, 420, 16, 714, 12, 5, 187, 325, 787, 837, 26, 946], [86, 2, 185, 586, 587, 131, 38, 5, 357, 37, 67, 82, 2, 2, 331, 224], [145, 1, 37, 6], [616, 34, 721, 617, 6, 862, 103, 14, 655, 294, 721, 8, 150, 456, 94, 512, 141, 15, 194, 94, 383, 17, 259, 64, 91], [3, 84, 229, 492, 2, 188, 43, 104], [25, 109, 92, 346, 9, 165], [16, 10, 44, 3, 811, 8, 22, 114, 11, 8, 43, 7, 1, 372, 24, 431, 438], [869, 1, 461, 20, 6, 25, 254, 166, 1, 131, 57, 3, 33, 6, 164, 10, 828, 69, 164, 10, 59, 78, 53, 52, 692, 6, 51, 85, 94, 6, 84, 29, 23, 341], [1, 205, 460, 2, 5, 517, 381], [13, 77, 10, 122, 209, 20, 156, 45, 220, 285, 314, 24, 515, 416, 723, 109, 86], [65, 66, 12, 54, 88, 391], [277, 13, 124], [59, 101, 255, 584, 142], [481, 45, 5, 63, 61, 34, 11, 427, 7, 51, 1, 70, 8, 6], [477, 559, 2, 55, 131, 5, 479, 3, 22], [203, 1, 58, 227, 169, 358, 1, 112, 9, 25, 1, 435, 42, 41, 36, 9, 911, 1, 58, 130, 5, 115, 651, 110, 14, 18, 5], [186, 115, 37], [203, 1, 19, 1, 524, 129, 9, 5], [8, 366, 1, 634, 993, 8], [185, 5, 7, 5, 565, 15, 5, 552, 220, 86, 551, 220, 966, 338, 2, 37, 5, 216], [33, 1, 345, 2, 38, 3, 178, 12, 10, 56, 358, 7, 102, 451, 24, 2, 198, 50, 733, 135], [410, 628, 155, 28, 595, 139, 2, 53, 155, 49, 77, 6], [428, 3, 1, 56, 3, 72, 111], [529, 6, 669, 129, 1, 222, 23, 917, 91, 240, 58, 459], [179, 78, 90, 33, 1, 29, 60, 74, 9, 4, 299], [135, 233, 57, 673, 283, 1, 58, 715, 29, 53, 12, 59, 2, 414, 234, 30, 47, 436, 7, 442, 4, 839, 234], [660, 25, 1, 199, 53, 20, 34, 336, 159], [203, 152, 28, 40, 1, 337, 24], [138, 1, 55, 5, 50, 5], [574, 261, 7, 861, 45, 47, 18, 420, 644, 18, 184, 836, 818, 16, 714, 18, 837, 26, 946], [54, 176, 398, 128, 98, 265], [116, 6, 374, 11, 134], [842, 715, 85], [46, 1, 134, 6, 828, 1, 225, 11, 336], [127, 3, 175, 13, 44, 3, 12, 647, 384, 434, 344, 162, 28], [203, 135, 3, 57, 4, 278, 12, 5], [4, 350, 15, 40, 204, 75, 103, 14, 447, 120, 6, 222, 316, 223, 203], [96, 116, 6, 504, 20, 31, 45, 242, 33, 24, 321, 694, 413, 31, 129, 4, 731, 906, 26], [473, 250, 36, 4, 686], [1, 65, 254, 1, 38, 37, 71, 28], [33, 3, 84, 577, 5, 109, 183, 10, 55, 23, 1, 29, 53, 2, 5, 244, 1, 205, 14, 2, 31, 5, 149], [139, 13, 88, 521, 12, 47, 2, 325, 523, 351, 990, 415, 506, 16, 88, 18, 837, 26], [428, 6], [464, 13, 16, 3, 334, 90, 11, 660], [8, 75, 45, 143, 292], [47, 12, 371, 115, 184, 212, 45, 34, 547, 186, 115, 36, 79, 184, 2, 619, 31, 7, 102, 34, 785, 147, 248, 195, 782, 212, 252], [48, 58, 7, 647], [287, 735, 102, 10, 48, 1, 589, 30, 24, 28, 83, 9, 91, 719, 142], [30, 18, 11, 141, 83, 206, 2, 567, 45, 11, 354, 59, 53, 532, 4, 299, 85], [3, 22, 21, 51, 642, 31, 15, 474, 26, 2, 13, 107, 53, 2, 590, 248, 195, 35], [315, 555, 337, 132, 36, 57, 5, 246, 64], [481, 45, 10, 83], [38, 17, 403, 130, 228, 6, 7, 8, 187, 32], [1, 453, 31, 124, 3, 55, 3, 22, 11, 335, 7, 489], [46, 1, 65, 4, 7, 38, 834, 3, 32, 7], [127, 81, 6, 566, 106, 316], [7, 932, 84], [93, 616, 34, 47, 60, 2, 11, 83, 7, 197, 873, 1, 490, 205, 517, 2, 129, 197, 316, 60, 450, 37, 47, 87], [38, 37, 74, 59], [3, 38, 37, 9, 5, 244, 15, 19, 284], [881, 34, 370, 544, 15, 627, 26, 281, 47, 522, 20, 713, 884, 342, 79, 628, 2, 147], [58, 596, 2, 90, 19, 148, 23, 44, 81, 6, 670, 666, 124, 49, 465, 7, 142, 81, 34], [203, 35, 6, 29, 10], [7, 810], [774, 1, 429, 5, 169, 63, 39, 57, 12, 5, 216, 63, 32, 240], [12, 5, 148, 108, 28, 11, 107, 12, 119, 902, 2, 68, 26, 24], [33, 39, 185, 61, 161, 35, 122, 939, 12, 308, 63], [640, 146, 291, 585, 44, 14, 585, 144, 166, 87, 9, 5, 15, 640, 146, 100, 13, 890, 87, 831], [47, 134, 39, 13, 88, 149, 74, 50, 105, 16, 2, 17, 40, 16, 38, 37, 47, 50, 4, 401, 369], [116, 6, 178, 52, 49, 63, 5, 462, 8, 28, 655, 1, 80, 2, 112, 295, 52], [46], [303, 2, 228, 12, 6, 38, 37, 43, 2, 629, 32, 5, 325, 697, 7, 2, 37, 67, 31, 79, 82, 2], [30, 272, 120, 3, 22, 197], [94], [616, 116, 3, 31, 23, 7, 245, 123], [181, 45, 13, 936, 13, 686, 40, 115, 38, 879, 6, 97, 342, 45, 586, 154, 282, 5, 98, 218, 79, 2], [245, 5, 141, 3, 145, 563, 135], [127, 1, 5, 18, 418, 166, 49, 246, 22, 39, 75, 12, 384, 190, 13, 418, 113, 47, 39, 80, 2, 162, 7, 976, 97], [1, 24, 622, 548, 255, 262, 20, 53, 23, 390, 802], [3, 17, 180, 4, 281, 392, 154, 26, 4, 658, 158, 2, 125, 894, 158, 16, 97, 237, 224, 18], [266, 114, 25, 1, 7, 7, 365, 612, 36, 312, 1, 291, 346, 18, 25, 1, 337, 13, 244, 8, 483, 19, 14, 100], [1, 139, 6, 4, 686, 112, 598, 210, 61, 551], [135, 382, 39, 103, 143, 73, 28, 85, 255, 262, 546, 29], [2, 31, 9, 8, 19, 46], [283, 25, 35, 236, 436, 104, 57, 2, 53, 12, 283, 7, 492, 12, 12, 647], [124, 54, 176, 21, 66, 1, 65, 43], [30, 71, 7, 1, 29, 90, 3, 25, 3, 211, 90, 10, 455, 3, 145, 1, 5], [4, 510, 132, 922, 767, 25, 8, 121, 2, 14], [5, 19, 286, 361, 3, 55, 167, 30, 13, 8, 49, 1, 70, 2, 27], [410, 411, 85], [62, 14, 1, 70, 2, 19, 812, 32, 905], [192, 39, 22, 280, 2, 200, 6, 630, 342, 361, 19, 3, 17, 180, 4, 158, 281, 16, 50, 739, 305, 125, 537, 704, 66], [891, 7, 153, 759, 60, 83, 50, 19, 327, 2, 11, 136, 10, 355, 7, 251, 10, 31, 307, 12, 11, 629, 22, 3, 179, 13, 307, 12, 19, 854, 15, 165], [31, 221, 9, 7, 705, 2, 918, 159, 939, 42, 41, 7, 28, 216, 159], [259, 259, 48, 8, 14, 459], [6, 81, 20, 884, 872, 371, 329, 215, 47, 686, 944, 189, 134, 20, 643, 79, 82, 20], [4, 44, 3, 5, 2, 775, 2, 452, 13, 26, 14, 526, 3, 22], [30, 28, 83, 105, 16], [197, 22, 3, 26], [101, 163, 751, 27, 6, 335, 33, 1, 53, 406, 5, 12, 4, 605, 751, 1, 9, 4, 474, 101, 475, 52, 220, 617, 4, 94, 11, 463], [23, 49, 27, 3, 349, 27], [93, 525, 466, 227, 37, 229, 23, 78, 37, 43, 71, 229, 42, 41], [109, 109, 178, 52, 50], [134, 616, 6, 150, 6, 157, 260, 27, 6, 851, 8, 150, 341, 15, 260, 144, 150, 282, 15, 4, 430, 138, 7, 6, 851, 132, 8, 332, 430, 260, 101, 8, 150, 132, 73, 29, 150, 282, 15, 4, 320], [54, 35, 80, 106, 257, 815, 138, 105, 102, 99, 149, 1, 239, 576, 99], [186, 64, 1, 277, 2, 231, 153, 42, 41, 23, 66], [936], [11, 423, 8, 7, 35, 8, 5, 752, 8, 29, 3, 86, 2, 976, 196, 205, 40, 2, 5, 159, 320], [56, 4, 26, 49], [48, 22, 3, 11, 62, 22, 3, 32, 13, 633, 63, 2, 306, 32, 129, 157, 127, 525, 260, 50, 5, 771], [1, 38, 60, 32, 311, 105, 226, 493, 38], [196, 166], [995, 334, 95, 14, 58, 19, 1, 103, 14, 51, 89, 34, 24, 4, 6, 14, 228], [54, 11, 62, 48, 22, 87, 1, 120, 13, 54, 7, 455, 17, 112, 1, 470, 7, 168, 3, 171, 4, 424, 50, 5, 771], [48, 81, 118, 75, 2, 67, 14, 2, 10], [630, 948, 32, 22, 511, 2, 4, 374, 4, 898, 485, 33, 13, 149, 16, 2, 374, 13, 898, 485], [], [324, 52, 97, 15, 793, 602, 498, 7, 190, 13, 88, 7, 68, 2], [96, 134, 10, 30, 9, 395], [59, 8, 272, 314, 989, 26, 515, 989, 12, 902], [47, 522, 406, 97, 871, 587, 36, 68, 5, 328, 185, 2, 21, 276, 173, 133, 147, 248, 195], [276, 793, 13, 379, 38, 37, 32, 3], [555, 538, 43, 48, 120, 3, 17, 108, 486, 44, 1, 419, 431, 50, 571, 268, 1, 393, 175, 7, 110, 139, 5, 482, 42, 41, 36, 56, 2, 55, 27, 17, 4, 265, 7, 51, 5, 288, 32, 13, 998, 518, 33, 3, 29, 161, 161, 216, 12, 59, 13, 140, 8, 257], [1, 80, 3, 2, 37, 9, 11], [23, 44, 3, 227, 31], [413, 49, 43], [76, 91, 1, 58, 301, 15, 687, 3, 350, 15, 509, 622, 1, 38, 16, 3, 28], [26, 10, 9, 4, 275], [481], [48, 2, 136, 4, 430, 128, 144, 24, 28, 51, 883, 2, 136, 679, 128, 6, 66, 80, 2, 37, 122, 4, 278, 20, 156, 45, 42, 41, 54, 42, 41, 42, 41, 54, 42, 41, 187, 963, 42, 41, 42, 41, 42, 41, 42, 41, 42, 41, 42, 41, 512, 42, 41, 42, 41, 42, 41, 42, 41, 42, 41, 42, 41, 42, 41, 42, 41], [30, 750, 768, 788, 974, 7, 592, 406, 10], [293, 45, 285, 875, 823, 11, 8, 293, 10, 175, 18, 418, 321, 422, 11, 834, 70, 20, 53, 79], [29, 3, 102, 2, 105, 53, 2, 718, 15, 7, 778, 5, 102, 5, 49, 5, 8, 7, 164, 33, 101, 29, 71, 101, 145, 164, 213, 2, 324, 12, 5, 266, 204, 7, 61, 101, 99, 9, 61, 126, 101, 38, 37, 293, 9, 98], [1, 55, 671, 268, 11, 868, 58, 56, 3, 316, 24, 37, 59, 182, 1, 65, 249, 5, 73, 2, 346], [65, 197, 151, 9, 66, 25, 17, 2, 422], [44, 3, 349, 18, 273, 209], [3, 22, 294, 74, 97, 720, 224, 74, 213, 3, 55, 2, 178, 52, 132, 14, 8, 16, 50, 4, 739, 305], [1, 65, 18, 5, 141, 2], [530, 33, 286, 179, 183, 10, 55, 44, 286, 670], [30, 7], [1, 92, 29, 3, 67, 14, 2, 10, 518, 473], [23, 27, 3, 17, 263], [127, 196, 5, 20, 18, 904, 333], [24, 599, 20, 222, 321, 153, 545, 9, 166, 45, 10], [76, 1, 471, 13, 16, 29, 3, 105, 16, 89], [135, 93, 30, 410, 114], [46], [126, 316, 21, 181, 203], [1, 95, 19, 674, 23, 152, 78, 37, 74, 28, 112], [46, 85, 118, 59, 148, 10], [60, 74, 97, 444, 28, 112, 23, 39, 29, 52, 5, 363, 12, 40, 415], [3, 70, 2, 53], [30, 9, 4, 549, 503, 311, 809], [197, 7, 3, 172, 36, 53, 2, 5, 7, 422, 12, 5, 572, 2, 37, 205], [93, 23, 65, 1, 48, 126, 12, 119], [92, 188, 43, 150, 16, 44, 193, 612, 8, 71, 2, 102], [61, 46, 1, 36, 116, 6, 851, 35], [187, 94, 375, 1, 489, 12, 11, 62], [413, 475, 89, 867, 292, 469, 11, 700, 66, 6, 436], [197, 221, 106, 3, 29, 178], [803, 11, 320, 87, 81, 6, 788, 231, 182, 169, 545, 6, 28, 45, 989], [968, 61, 108, 4, 308, 64, 30, 36, 70, 2, 43, 7, 103, 4], [29, 409, 142, 2, 31, 45, 99], [277, 13, 124], [46, 360, 1, 574, 324, 469, 91, 468, 166, 69, 163, 918, 240, 69, 163, 38, 918, 501, 1, 399, 259], [11, 2, 129], [127, 324, 14, 91, 1, 17, 91], [203, 13, 249, 23], [152, 159, 78, 531, 11, 699], [379, 608, 80, 251, 695, 248, 195, 26, 16, 3, 446, 37, 252, 608, 28, 147, 248, 195, 339], [842, 152, 33, 13, 24, 121, 52, 7, 160, 492, 2, 11, 264], [296, 35, 80, 78, 413, 226, 45, 143, 20, 82], [233, 219, 439, 17, 18, 175], [36, 52, 52, 2, 676, 228, 11, 295, 21], [388, 16, 10, 380, 286, 681], [105, 16, 32, 2, 26, 13, 173, 88, 47, 15, 594, 348, 87, 873, 2, 7, 653], [138, 144, 51, 449, 846], [203, 110, 202, 28, 216, 25, 59, 110, 43, 7, 9], [30, 257, 30, 76, 1, 120, 13, 217, 3, 489, 3, 70, 429, 51, 5, 8, 534, 33, 30, 24, 229, 44, 3, 14, 36, 51, 5, 7, 225, 5, 32], [1, 55, 19, 11, 278, 166, 238, 19], [1, 409, 501, 44, 744, 53], [192, 16, 50, 13, 369, 13, 941, 45, 267, 26, 387, 402, 154, 580, 488, 553, 173, 279, 394, 381, 276], [29, 3, 109, 109, 67, 10, 4, 517, 18, 51, 3, 55, 77, 273, 2, 114, 51, 3, 55, 77, 7, 174, 554, 181], [5, 15, 165, 8, 9, 217, 702, 214, 15, 1, 253, 186, 702, 38, 37, 890, 9, 34, 165, 256], [142, 557, 6, 258, 78, 221, 25, 414, 1, 258, 30, 353, 20, 748, 11, 451, 28, 83, 1, 164, 129, 60, 94, 10, 166], [23, 744, 136, 14, 708, 26, 72, 230], [698, 101, 306, 157, 136, 1, 3], [272, 473, 7], [29, 3, 484, 102, 10, 5, 856, 205, 951, 201], [174, 85, 25, 57, 244, 20, 705], [111, 61, 24, 56, 3, 414, 393, 213, 4, 19, 108], [198, 45, 4, 338, 20, 185, 613, 954, 12, 602, 955, 594, 90, 248, 195, 602, 45, 35], [3, 22, 249, 13, 52, 71, 3, 478, 15, 13, 844, 18, 3, 22, 73, 15, 5, 456, 673, 268, 196, 375, 915, 167, 172, 1, 95, 4, 15, 13, 444, 172, 615, 3, 136, 3, 222], [13, 217, 367, 379, 38, 37, 205, 2, 3, 339, 33, 73, 8, 24, 483, 12, 68, 89, 5, 2, 31, 5, 217, 379], [17, 4, 849, 2, 253, 3, 804, 7, 187, 223, 763, 2, 32], [48, 126, 12, 119], [30, 998, 5, 68, 1, 36, 205, 3, 61, 795, 2, 37, 4, 23, 859, 14, 9, 19, 925], [127, 1, 845, 400, 128, 177, 64, 171, 1, 62, 233], [23, 34, 514, 129, 7, 48, 514, 8], [183, 10, 55, 48, 2, 200, 3, 196, 3, 9, 4, 444, 744, 55, 3, 22, 46], [1, 100, 55, 6, 7, 6, 100, 55, 10, 67, 232, 2, 683, 21, 7, 178, 776, 246, 66, 189, 134, 877, 878, 684, 276, 583, 26, 209], [11, 9, 253, 3, 349, 4, 123], [30, 459, 936], [181, 12, 294, 71, 12, 10, 36, 2, 306, 2, 18, 708, 3, 22, 187, 124, 2, 10, 1, 327, 3, 72, 4, 633, 7], [61, 4, 977, 103, 14, 32, 3], [1, 253, 19, 1, 58, 32, 3, 3, 597, 3, 90, 48, 612, 3, 22, 48, 126, 3, 634, 2, 10, 48, 126, 1, 80, 3, 9, 11, 165], [47, 397, 68, 216, 2, 12, 4, 578, 26, 68, 31, 2, 12, 4, 512, 212, 251, 252, 153, 371, 47, 498, 22, 2, 79, 82], [384, 5, 73, 157, 33, 118, 262, 16, 74, 146, 16, 399, 12, 66, 57, 821, 12, 371, 303], [573, 45, 85], [48, 22, 3, 40, 103, 194, 633], [90, 5, 148, 12], [174, 85, 8, 101, 273], [105, 16, 97, 237, 224, 18, 408, 72, 3, 17, 180, 4, 281, 392, 154, 26, 603, 158], [1, 17, 4, 629, 18, 753, 32, 38], [131, 22, 3, 16, 10], [3, 4, 640, 64, 776, 994, 219, 130, 250, 2, 190, 3, 558, 27, 339, 14], [1, 57, 4, 16, 50, 4, 369, 149, 1, 65, 502, 2, 60, 2, 1, 38, 53, 9, 5, 433], [93, 29, 19, 588, 234], [466, 119, 7, 172, 50, 5, 442, 35, 341, 1, 36, 92, 56, 110, 92, 80, 25, 35], [7, 455, 112], [75, 18, 297, 123], [1, 199, 188, 5, 107, 159, 21, 109, 67, 4, 148], [93, 93, 128], [409, 550, 1, 372, 177, 469, 11, 33, 118, 262, 2, 343, 59, 1, 226, 45, 118, 360], [486, 85, 56, 19, 110, 453, 183, 218, 53, 283, 49, 116, 110, 157, 9, 5, 7], [192, 612, 12, 87, 8, 13, 748, 64, 20, 178, 52, 167, 852, 590, 147, 201, 71, 8, 4, 3], [5, 895, 8, 56, 4, 476, 50, 11, 336, 664, 159, 74, 14, 482, 28, 7, 3, 17, 2, 103], [56, 3, 669, 193, 2, 27, 246, 322, 657, 123, 318], [96, 114, 17, 28, 18, 5, 2, 28, 7, 427, 151], [13, 654, 8, 12, 67, 82, 2, 237, 642], [233, 25, 14, 199, 23, 1, 996, 175], [142, 9, 131, 31], [1, 13, 98, 336], [52, 303, 938], [1, 102, 6, 413, 21], [233, 187, 259, 37, 307, 18], [22, 6, 8, 71, 853, 71], [71, 8, 393, 214, 38, 592, 452, 9, 788, 3, 29, 277, 19, 2, 5, 612, 9, 7, 137, 14, 2, 532], [11, 165, 526, 4, 350, 2, 10, 24, 312, 1, 62, 11, 165, 25, 312, 1, 62, 5, 268, 9, 11, 165, 5, 357, 506, 175, 241, 1, 16, 175, 11, 357], [625, 13, 326, 726, 12, 361, 556, 659, 2, 125, 16, 727, 423, 688], [171, 1, 773, 62, 3, 121, 3, 55, 479, 14, 58, 23, 54, 2, 431, 13, 1, 23, 80, 19, 1, 957, 14, 1, 211, 31, 483, 1, 3], [96, 535, 687, 6, 21, 2, 437, 6, 137, 10, 4, 471, 380, 6, 133, 134], [13, 363, 58, 2, 53, 228, 2, 32, 10, 452, 4, 194, 9, 5, 357, 23, 1, 17, 2, 290, 32, 13, 317, 64], [30, 670, 11, 336, 21], [17, 3, 631, 9], [39, 17, 205, 12, 237, 224, 905, 2, 34, 517, 654, 12, 460, 200, 218], [66, 33, 3, 13, 293, 52, 72, 223, 72, 3, 29, 7, 68, 10, 9, 5, 176, 2, 183, 10, 55, 3, 448, 14, 9, 46], [774, 55, 286, 229], [23, 10, 570, 21, 91, 169, 740, 295, 63], [36, 9, 18, 3, 161, 27, 168, 746, 27, 17, 4, 123, 358], [167, 101, 559, 2, 306, 2, 10], [81, 6, 209, 14], [48, 22, 3, 1, 168, 3], [78, 68, 811, 7, 183, 3, 55, 18], [131, 22, 3, 124], [192, 39, 22, 280, 2, 200, 6, 630, 342, 361, 19, 3, 17, 180, 4, 658, 158, 281, 16, 50, 739, 305, 125, 537, 704, 66], [4, 421, 58, 254, 20, 83, 242, 840, 15], [40, 8, 5, 417, 63, 39, 17, 535, 20, 200, 6, 6, 17, 180, 5, 610, 158, 20, 125, 8, 447, 16, 21, 66, 516, 230, 191, 401, 606, 389], [1, 57, 13, 89, 27, 3, 17, 106, 9, 376], [138, 398, 1, 70, 2, 136, 3, 128], [1, 157, 35, 72, 69, 8, 4, 284, 7, 1, 222, 632, 12, 129, 23, 1, 38, 53, 7, 1, 36, 461, 3, 2, 55, 1, 172, 364, 37, 706, 254, 406, 13, 113], [135, 46, 226, 45, 10, 71, 11, 577, 304], [3, 17, 180, 72, 4, 899, 237, 97, 961, 117, 3, 2, 185, 4, 158, 2, 503, 8, 447, 36, 16], [435, 6, 262, 10, 20, 53, 399, 45, 6], [632, 604, 15, 4, 284, 169, 115, 58, 11, 11, 463, 253, 10, 11, 798, 400, 94, 23, 116, 11, 987, 1, 206, 2, 140, 219, 11, 116, 24, 253, 72, 1, 11, 11, 391, 163, 751, 128, 751, 1, 857, 264, 101, 10, 45, 292, 153, 292, 101, 10, 2, 99, 39, 206, 71, 101, 163, 751, 27, 6, 335, 33, 1, 53, 406, 5, 12, 4, 605, 751, 1, 9, 4, 474, 101, 475, 52, 220, 617, 4, 94, 11, 463, 11, 798, 11, 11, 241, 94, 11, 51, 7, 1, 58, 247, 18, 5, 858], [167, 27, 3, 164, 398], [215, 215, 843, 75, 2, 342, 5, 153, 207, 583, 9], [127, 109, 1, 70, 2, 31, 259, 173, 12, 11, 259, 11, 8, 42, 41, 93, 251, 109, 1, 38, 150, 682, 190, 10, 383, 20], [23, 3, 95, 1, 145, 414, 306, 2, 129, 24, 16, 242, 9, 5, 176, 1, 206, 2, 40, 244, 169, 265, 7, 69, 238, 10, 131, 1, 239, 53, 7, 31, 11, 311, 69, 799, 10, 87, 48, 126, 69, 1, 172, 60, 89, 9, 48, 69, 249, 24, 293, 11, 149, 964], [30, 906, 269, 30], [20, 20], [197, 5], [7, 410, 983, 9, 395], [287, 84, 91], [127, 22, 39, 75, 12, 5, 839, 26, 943], [120, 3, 22, 24, 327, 19, 854, 15, 64, 17, 73, 32, 973, 15, 2, 323], [39, 22, 962, 2, 162, 2, 514, 97, 849, 301, 238, 3, 9, 5, 433, 301, 39, 29, 53, 12, 839, 153, 19], [73, 302, 21], [774, 68, 10, 44, 286], [144, 366, 183, 10, 55, 210, 14, 228, 229, 42, 41, 78, 37, 52, 7, 77, 51, 64], [562, 124, 846, 124, 6, 81, 24, 25, 1, 29, 431, 92, 31, 290, 32, 35, 130, 6, 81, 249, 11, 124, 256, 814], [105, 11, 854, 105, 60, 114, 7, 270], [1, 65, 76, 14, 615, 3], [287, 104, 25, 30, 469, 11, 21, 550, 287, 75, 83, 216], [8, 71, 106, 146], [], [29, 6, 31, 685, 710, 2, 13, 107], [203, 110, 100, 55, 77, 11, 774, 107, 1, 239, 159, 21, 33, 1, 70], [65, 28, 11, 9, 299, 728, 89, 648, 90, 3, 223, 243], [123, 17, 4, 849, 92, 51], [127, 666, 654, 383, 20, 25, 139, 20, 53, 83], [40, 8, 11, 149, 74], [103, 4, 685, 7, 67, 14, 2, 10], [1, 44, 101, 404, 40, 101, 49, 145, 37, 4, 449, 386, 849, 406, 119, 64, 15, 48, 489, 172, 399, 9, 99, 336], [411, 758, 49, 404, 2, 150, 143, 79, 150, 143, 26, 2, 21, 45, 338, 20, 185, 586, 154], [35, 61, 512, 93, 27, 6, 851, 396, 35, 42, 41], [57, 569, 39, 343, 984, 382, 53, 94, 26, 53, 26], [15], [72, 980, 272, 128, 155, 151, 111], [84, 6, 60], [171, 48, 496, 19, 64, 49, 22, 3, 43, 2, 1, 168, 3, 166, 11, 62, 678, 424, 1, 120, 489, 496, 111], [11, 88, 149, 109, 235, 34, 517, 654, 2], [380, 47, 16, 10, 298, 1, 65, 247, 12, 3], [1, 618, 6, 437, 333, 69, 163, 173], [6, 599, 52], [314, 9, 11, 357, 3, 34, 34, 323, 34, 34, 417, 34, 235, 7, 371, 34, 892, 562, 54, 176, 124], [266, 2, 6], [161, 1, 618, 34, 991, 308, 938, 25, 142, 6, 413, 21, 57, 277, 6, 128, 360, 1, 84, 529, 20], [46, 21, 1, 65, 9, 462, 33, 1, 60, 223, 1, 38, 60, 146], [375, 375, 238, 74, 9, 4, 320, 132, 6, 249, 8, 5, 73, 132, 6, 126, 25, 2, 14, 256], [72, 9, 22, 71, 106, 12, 10, 73, 50, 420, 19, 4, 25, 274, 84, 157, 420, 18, 14], [3, 239, 17, 10, 1, 3, 441], [22, 3, 71, 9, 444], [289, 366, 1, 65, 4, 7, 38, 834, 3, 32, 7], [473, 250, 30, 89, 28, 83, 7, 4, 440, 570, 166], [203, 46, 321, 270, 2, 67, 37, 8, 31, 14, 146], [1, 95, 1, 57, 34, 1, 435, 14, 9, 639, 531, 14, 9, 45, 6, 383], [122, 9, 20, 9, 932], [102, 99, 1, 163, 343, 365], [1, 100, 55, 6, 7, 6, 100, 55, 10, 67, 232, 2, 683, 21, 7, 178, 776, 246, 66, 189, 134, 877, 878, 684, 276, 583, 26, 209], [60, 42, 541, 41, 21, 1, 412, 5, 336], [13, 227, 17, 2, 188, 43, 4, 122, 12, 614, 18, 13, 141, 83, 1, 211, 219, 480, 8, 10], [481, 25, 11, 340, 8, 209, 166], [1, 95, 36, 614, 815, 181, 7, 90, 3, 648], [27, 6, 8, 562, 160, 119, 134, 15, 134, 8, 401, 29, 14, 155, 17, 4, 259, 231, 356, 564], [46, 71, 274, 37, 4, 47, 943, 77], [287, 307, 59, 16, 10], [3, 527, 584, 14, 25, 144, 512, 144, 861, 86, 477, 21, 2, 250, 19, 38, 13, 335, 50, 66, 79], [784, 14, 117, 716, 8, 21, 322, 5, 218, 2, 649, 25, 100, 664], [917, 889, 18, 11, 107], [91, 66, 1, 475, 2, 83], [530, 996, 567, 11, 565, 2, 4], [39, 17, 2, 188, 71], [343, 28, 671, 25, 21, 809, 57, 4, 350, 15], [3, 80, 2, 31, 43, 21], [47, 990, 933, 20, 13, 88, 79, 2, 31, 47, 12, 59, 230, 64, 79, 82, 40, 134, 8, 47], [288, 305, 163, 9, 62, 1, 38, 226, 493, 5, 64, 1, 29, 756, 6, 26, 5, 64, 6, 19, 6, 756, 10], [152, 812, 126, 37, 5, 288, 911], [140, 1, 429, 19, 49, 404, 14, 222, 56, 203], [54, 176, 11, 124, 17, 4, 123, 155, 64], [428, 3, 398, 3, 22, 23, 474], [160, 8, 388], [58, 36, 77, 2, 164, 38, 190, 40, 73, 455, 245, 167, 3, 334, 31, 51, 5, 467, 39, 205, 3, 18], [881, 34, 370, 569, 626, 15, 507, 627, 47, 522, 20, 97, 586, 587, 342, 79, 628, 2, 147, 201, 122], [736, 736, 366, 366, 620, 620], [127, 8, 309, 84, 18], [9, 309, 91, 1, 38, 16, 3], [296, 1, 577, 108, 71, 210, 3, 70, 2, 53, 12, 5, 1, 29, 16, 43, 2, 552], [105, 102, 10, 3, 17, 112, 15, 19, 264, 3, 202, 816, 77], [1, 55, 4, 275, 268, 1, 29, 806, 43, 7, 479, 2, 5, 138], [1, 60, 94, 188, 118, 43, 60, 52, 719, 34, 839], [531, 83, 112, 150], [22, 3, 2, 60, 932], [96, 11, 62, 48, 496, 19, 64, 479, 40, 176, 1, 7, 11, 18, 5, 141, 221, 5, 25, 14, 530, 1, 168, 3], [291, 270, 921, 2, 103, 5, 15, 4, 19, 585, 52, 15, 34, 269, 7, 988, 34, 249, 429, 4, 917, 278, 8, 114, 2, 856], [215, 35, 12, 129], [260, 481, 12, 734, 19, 16, 1, 57, 4, 318, 18], [366, 39, 38, 17, 449, 597], [35, 7, 543, 114, 1, 65, 921, 197], [36, 650, 7], [666, 184, 379, 351, 107, 8, 13, 16, 506, 359, 347, 16, 50, 252, 681, 600], [1, 17, 35, 236, 45], [34, 75, 20, 7, 362, 2, 4, 290, 777, 2, 125, 569, 154, 276, 66, 2, 677, 52, 79, 243, 2], [296, 670, 159, 21, 37, 89, 223], [105, 92, 157, 56, 19, 96, 96, 96], [3, 784, 31, 2, 406, 19, 153, 1, 17, 478, 3, 988, 13, 455, 219, 327, 3, 343, 10, 12, 4, 508, 210, 1, 435, 25, 197, 5, 222, 15, 19, 18, 13, 74, 5, 3, 249, 132, 3, 339, 11], [35, 148, 35, 49], [388, 78, 164, 11, 44, 1, 31, 89], [630, 948, 22, 511, 2, 374, 4, 485, 33, 3, 4, 983, 105, 16, 125, 423], [7, 466, 32, 21], [69, 163, 38, 40, 17, 108, 2, 166, 26, 24, 655, 1, 65, 9, 4], [96, 40, 8, 687, 50, 3, 22, 2, 374, 603, 9, 97, 158, 342, 105, 2, 125, 210, 800, 26, 13, 158, 38, 37, 2, 213, 554], [8, 126, 447, 137, 13, 326, 23, 1, 38, 146, 28], [504, 6, 43, 20], [23, 29, 503, 34, 977], [160, 599, 20, 5, 32, 504, 792, 6], [135, 272, 78, 37, 74, 234], [30, 227, 16, 3, 28, 56, 42, 41, 39, 22, 24, 24, 40, 365], [181, 17, 4, 123, 64], [1, 58, 28, 548, 21, 142, 25, 21, 30, 83, 809, 287, 23, 254, 59, 86, 1, 546, 524, 4, 582, 332, 1, 56, 25, 198, 131, 81, 118, 21], [163, 30, 150, 9, 150, 357, 319, 155, 163, 226, 6, 915, 150, 320, 998, 40, 134, 219, 319, 29], [6, 38, 13, 830, 18], [51, 571, 259, 98, 7, 5, 66, 204, 1, 29, 175, 2, 8, 3, 9, 808], [1, 17, 14, 135, 23, 42, 41, 60], [19], [46, 103, 194, 2, 3, 121], [365, 171, 299, 43], [120, 3, 22, 327, 4, 123, 98, 27, 253, 3, 5, 187, 288, 3, 22, 448, 12], [34, 370, 4, 732, 7, 239, 185, 4, 386, 186, 329, 79, 2, 313], [76, 1, 38, 37, 457, 2, 31, 2, 3, 90, 3, 9, 5, 176], [127, 171, 728, 20, 52, 20, 28, 91, 20, 91, 108, 650, 18, 91, 51, 64], [22, 9], [47, 582, 397, 2, 587, 397, 31, 371, 115, 47, 67, 2, 156, 230, 115, 82, 235], [283, 11, 278, 36, 502, 33, 3, 239, 31, 129, 4], [1, 92, 17, 106, 15, 13, 9, 11, 1, 58, 9, 140, 44, 3, 393, 10, 1, 102, 3, 33, 1, 178, 174, 9, 11, 444], [13, 77, 10, 122, 209, 20, 156, 45, 220, 285, 314, 24, 515, 416, 723, 109, 86], [27, 3, 55, 44, 451, 38, 37, 89], [3, 22, 159, 473, 940, 916, 43], [103, 193, 12, 480, 33, 14, 2, 106, 939, 9, 5, 217, 90, 4], [29, 6, 10, 150], [283, 316, 254, 322, 375, 106, 141, 1, 239, 912, 74], [1, 120, 3, 55, 30, 84, 28, 3], [831, 650], [46, 270, 2, 27, 115, 331, 786, 9], [72, 230, 13, 858, 117, 108, 575, 72, 13, 12, 51, 954, 416, 2, 13, 241], [61, 4, 123, 64, 27, 17, 614, 4, 640, 73], [722, 841, 45, 34], [127, 803, 6, 116, 6, 54, 267, 454, 243], [124, 1, 65, 670, 2, 12, 119, 109, 27, 190, 9, 636, 28, 42, 579, 41], [111, 8, 15, 4, 204], [30, 54, 17, 3, 2], [366, 39, 443, 53, 7, 90, 17, 2, 53, 2, 432, 22, 3, 28, 83, 57, 193, 2, 676, 9, 104, 23, 744, 53, 2, 426, 234, 455, 703, 29, 103, 218, 9], [1, 65, 254, 1, 38, 37, 71, 28], [319, 34, 23, 332, 264, 38, 439, 74, 34, 21, 484, 92, 164, 271, 69, 23, 126, 408], [72, 1, 11, 11, 391, 163, 751, 128, 751, 1, 857, 264, 101, 10, 45, 292, 153, 292, 101, 10, 2, 99, 39, 206, 71], [87, 8, 947, 64, 214, 947, 38, 6, 12, 10, 67, 40, 2, 51, 34, 807, 25, 216, 934, 10], [78, 90, 49, 22], [1, 2, 137, 18, 40, 358, 331], [215, 453, 346, 9, 216, 403], [12, 106, 626, 402, 870, 17, 3, 108, 39, 29, 84, 251, 16, 47, 928, 26, 68, 89], [96, 128, 98, 265, 1, 92, 634, 2, 25, 29, 3, 109, 183, 10, 55, 48, 126, 3, 169, 7, 48, 126, 40, 8, 181], [102, 175, 6, 17, 4, 7, 36, 70, 2, 277, 122, 373, 15, 63], [27, 1, 1, 301, 1, 478, 14, 89, 9, 5, 381], [1, 400, 2, 102, 6, 1, 29, 31, 18, 18, 11, 107], [76, 78, 16, 104], [660, 23, 254, 867, 355], [1, 70, 2, 57, 2, 28, 42, 541, 41, 23, 3, 60, 2, 462, 28, 416], [650, 745, 566, 111], [97, 236, 593, 7, 198, 4, 15, 33, 39, 185, 1, 31, 42, 41, 6, 31, 42, 41], [171], [238, 19, 69, 8, 75, 2, 495, 242, 880, 9], [46, 91, 1, 166, 1, 639, 188, 3], [21, 667, 13, 336, 182, 7, 27, 3, 17, 106, 71], [27, 3, 55, 44, 5], [46, 103, 34, 63, 94, 339, 34, 355], [1, 717, 20, 53, 94, 143, 141, 160, 119, 1, 57, 43, 792, 156, 133, 6, 62, 215, 40, 8, 11, 830, 35, 860], [607, 25, 1, 6, 157, 1, 59, 6, 255, 262, 10, 166], [450, 240, 54, 33, 38, 3, 9, 100, 3, 500, 815, 768, 46, 25, 90, 3, 28, 59], [998, 256], [616, 34, 721, 617, 6, 862, 103, 14, 655, 294, 721, 8, 150, 456, 94, 512, 141, 15, 194, 94, 383, 17, 259, 64, 91], [1, 65, 89, 299, 308, 170, 15, 18, 139, 2, 951, 1, 139, 4, 415, 181, 362, 223, 645, 15, 62], [21, 954, 91], [1, 301, 5, 52, 15], [48, 22, 3, 36, 43, 18, 3], [96, 61, 116, 6, 490, 4, 259, 36, 4, 148, 156, 157, 260, 655, 205, 6, 122, 9, 631, 647, 23, 563, 228], [1, 239, 164, 811, 33, 39, 239, 31, 130, 33, 554, 29, 9], [30, 745, 599, 57, 18, 110, 45, 355, 85, 283, 1, 960, 132, 38, 53, 63], [1, 334, 31, 5, 702, 310, 15, 19, 148], [97, 98, 88, 628, 224, 8, 21, 290, 5, 47, 628, 762, 38, 36, 18, 13, 107, 2, 793, 50, 5, 582], [32, 11, 700, 85, 39, 548, 318], [35, 1, 57, 19, 3, 75, 2, 198, 9, 932], [105, 5, 107], [27, 24, 177, 254, 62, 703], [1, 206, 50, 4, 2], [11, 664, 29, 66, 37, 859, 1, 80, 2], [572, 18, 42, 41], [93, 243, 117, 4, 390, 146, 176, 25, 466, 28, 97, 244, 234], [35, 263, 49, 22, 3, 151], [29, 1, 162, 118, 28, 220, 72, 45, 131, 18, 131, 118, 262, 20, 9, 85], [289, 366, 1, 70, 2, 105, 3], [720, 1, 17, 139, 403, 15, 571, 66, 631, 153, 1, 205, 4, 68, 2, 306, 169, 115, 106, 27, 3, 95, 26], [8, 3, 2, 37, 99, 278, 86, 138, 26, 35, 90, 99, 147, 235, 930, 6, 82, 67, 82, 757, 2], [1, 23, 1, 29, 82, 77, 29, 3, 105, 164, 5, 266, 686], [9, 808, 247, 12, 709, 2, 31, 52, 15, 11, 23, 1, 29, 103, 4], [84, 140, 75, 18, 14, 8, 187, 336], [1, 92, 61, 4, 761, 687, 408, 218], [135, 19, 58, 4, 148, 1, 301, 3, 67, 19, 2, 10], [981, 566, 87, 1, 443, 31, 19, 124], [135, 365, 1, 301, 19, 58, 13, 849, 19, 36, 557, 23, 126, 130, 21, 7, 5, 58, 5, 231, 18, 4, 3, 205, 10, 893, 19, 48, 3, 206, 18, 13, 849, 135, 7, 334, 13, 171, 53, 32, 3, 12, 19, 32, 13], [43, 39, 100, 17, 19, 126, 435], [482, 1, 306, 77, 51, 43, 9, 11, 726, 203, 1, 19, 33, 1, 139, 14, 163, 14, 525, 21], [625, 13, 825, 326, 726, 12, 361, 826, 827, 885, 215, 1, 412, 659, 16, 727, 423, 688, 729, 886], [35, 567, 66], [21, 272], [192, 13, 88, 149, 117, 108, 370, 32, 4, 658, 158, 281, 16, 50, 739, 305, 125, 537, 704, 66, 347], [76, 91, 87, 1, 453, 60, 2, 346, 1, 17, 647], [59, 36, 343, 4, 365, 7, 226, 12, 34, 441, 6], [170, 1, 235, 118, 59, 118, 735, 86, 23, 1, 226, 45, 118, 2, 86, 360, 1, 618, 118, 577, 304, 34, 142], [30, 75, 2, 11, 432, 30, 75, 2, 37, 254, 436], [35, 526], [46], [283, 29, 25, 30, 327, 355, 32, 11], [1, 131, 22, 3, 1, 17, 2, 53, 7, 11, 300, 28, 220], [351, 3, 22, 370, 4, 351, 16, 369, 536, 888, 303], [17, 3, 89, 28], [3, 334, 17, 2, 102, 10, 19, 21, 30, 715, 518, 466, 75, 2, 82, 51, 13], [61, 33, 33, 310, 141, 59, 61, 316, 12, 129, 2, 14], [29, 3, 27, 4, 309, 40, 28, 112], [876, 6, 429, 48, 20, 242, 282, 138, 1, 116, 69, 240, 136, 501, 1, 240], [17, 4, 892, 113, 7, 44, 3, 470, 43, 2, 90, 40, 148, 1, 120, 3, 323, 51, 8, 72, 145, 37, 17, 4, 123, 176], [21, 65, 47, 16, 10, 391], [93, 93, 48, 77, 13], [185, 4, 392, 154, 158, 26, 4, 158, 665, 603], [35, 91, 87, 197, 1, 400], [3, 55, 49, 43, 526, 159], [46, 10, 410, 411, 121], [5, 948, 7, 541, 659, 59, 12, 5, 5, 541, 56, 1, 3], [1, 65, 87, 109, 190, 38, 306, 104], [36, 57, 112, 895, 236, 106, 338, 3, 7, 5, 70, 2, 53, 18, 4], [432, 30, 75, 386, 18, 11, 975, 21, 170, 11, 700, 24, 257, 263, 255, 6, 333], [768, 135, 181, 12, 597, 11, 64], [192, 40, 8, 97, 417, 491, 2, 200, 6, 13, 158, 50, 494, 8, 84, 488, 2, 125, 16, 21], [296, 35, 130, 166, 481, 45, 94, 14, 43], [233, 110, 22, 111, 7, 272, 560, 219, 101, 353, 7, 34, 656, 114, 61, 121], [28, 83, 74, 5, 141], [48, 126, 172, 14, 359, 2, 4], [30, 84, 492, 12, 4, 311, 2, 198, 7, 17, 24, 706, 647, 572, 263], [3, 55, 504, 268, 173, 8, 51, 39, 55, 39, 81, 28], [531, 668, 756], [463, 48, 101, 5, 63, 15], [5, 993, 8, 7, 30, 1, 17], [6, 17, 4, 754, 132, 8, 492, 20, 136, 200, 32, 6, 178, 52, 132, 110, 81, 866, 132, 755, 34, 23, 264, 16, 18], [831, 87, 1, 65, 254, 12, 42, 41, 191], [1, 360, 287, 622, 59, 1, 118], [142, 172, 6, 56, 45, 34, 340], [76, 58, 9, 5], [40, 418, 28, 711, 50, 34, 870, 20, 60], [7, 8, 71, 4, 141, 3, 29, 67, 295, 2, 99, 7, 101, 117, 108, 890, 121], [266, 72, 6, 255, 262, 271, 6, 255, 56, 10, 166, 384, 142, 6, 151, 21, 84], [410, 411, 85, 259, 73, 59, 1, 56, 85], [236, 18, 28, 147, 248, 195, 652, 50, 4, 32, 606, 536, 2, 3, 74], [1, 70, 2, 37, 3, 186, 113], [1, 795, 72, 119, 50, 10, 12, 3, 2, 31, 10, 28, 42, 41, 28, 113], [21, 66, 1, 83, 1, 65, 187, 822, 21, 1, 38, 60], [71, 22, 207, 763, 102, 10, 5], [607, 481], [124, 10, 28, 9, 911, 6, 81, 273, 109, 16, 6, 345, 1, 443, 197, 437, 26, 102, 10, 214, 64, 6, 81, 273, 1, 65, 61, 267], [3, 57, 393, 4], [138, 36, 674, 410, 303, 15, 97, 1, 62, 14], [124, 241, 76, 12, 5, 254, 87, 8, 5, 340, 15, 97, 678, 12, 130, 460, 852, 18, 2, 441, 552, 7, 90, 61, 242, 149, 42, 41, 92, 168, 4, 834], [127, 225, 14, 24, 4, 330, 103, 194], [296, 25, 24, 85, 30, 9, 143, 87], [3, 22], [120, 34, 768, 829, 615, 20, 126, 65, 11, 141, 988, 4, 15, 9, 32, 4, 234, 60, 33, 3, 56], [161, 1, 52, 18, 11], [61, 42, 41, 93, 114, 135, 145, 1, 67, 83, 12], [80, 4, 592, 648, 211, 584, 144, 19, 63, 15, 115, 166], [6, 9, 426, 921], [108, 25, 66, 220, 378, 7, 59, 372, 17, 2, 2, 5]]\n"
          ]
        }
      ]
    },
    {
      "cell_type": "code",
      "source": [
        "accr = model.evaluate(test_sequences_matrix,Y_test)"
      ],
      "metadata": {
        "colab": {
          "base_uri": "https://localhost:8080/"
        },
        "id": "aqwICLyfgrL5",
        "outputId": "3bb3d35b-4a66-4cd2-e2e3-a5c7b9c9cca3"
      },
      "execution_count": 26,
      "outputs": [
        {
          "output_type": "stream",
          "name": "stdout",
          "text": [
            "27/27 [==============================] - 1s 35ms/step - loss: 0.0478 - accuracy: 0.9856\n"
          ]
        }
      ]
    },
    {
      "cell_type": "code",
      "source": [
        "print('Test set\\n  Loss: {:0.3f}\\n  Accuracy: {:0.3f}'.format(accr[0],accr[1]))"
      ],
      "metadata": {
        "colab": {
          "base_uri": "https://localhost:8080/"
        },
        "id": "xZWZXYY2gywn",
        "outputId": "3dfb2e9b-6d2b-4c44-d32d-6bef143ddc45"
      },
      "execution_count": 27,
      "outputs": [
        {
          "output_type": "stream",
          "name": "stdout",
          "text": [
            "Test set\n",
            "  Loss: 0.048\n",
            "  Accuracy: 0.986\n"
          ]
        }
      ]
    },
    {
      "cell_type": "code",
      "source": [
        "import pickle"
      ],
      "metadata": {
        "id": "t48mdQnAhWM5"
      },
      "execution_count": 28,
      "outputs": []
    },
    {
      "cell_type": "code",
      "source": [
        "filename= \"my_model\"\n",
        "with open(filename, 'wb') as file:  \n",
        "    pickle.dump(model, file)"
      ],
      "metadata": {
        "colab": {
          "base_uri": "https://localhost:8080/"
        },
        "id": "CyH_ckrWhcOP",
        "outputId": "7c28374c-415d-4777-a96f-6d0e822f919f"
      },
      "execution_count": 29,
      "outputs": [
        {
          "output_type": "stream",
          "name": "stderr",
          "text": [
            "WARNING:absl:Found untraced functions such as lstm_cell_layer_call_fn, lstm_cell_layer_call_and_return_conditional_losses while saving (showing 2 of 2). These functions will not be directly callable after loading.\n"
          ]
        }
      ]
    },
    {
      "cell_type": "code",
      "source": [],
      "metadata": {
        "id": "xq1oeT3Ehh8K"
      },
      "execution_count": null,
      "outputs": []
    }
  ]
}
